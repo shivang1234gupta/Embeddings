{
 "cells": [
  {
   "cell_type": "markdown",
   "metadata": {
    "colab_type": "text",
    "id": "Nvible7lnt_F"
   },
   "source": [
    "# **Training Word Embeddings and visualizing them**\n",
    "We are going to train 64 dimensional word embeddings using a large text corpus, use them to solve analogical reasoning tasks, and then visulaize the trained embeddings using the t-SNE algorithm."
   ]
  },
  {
   "cell_type": "markdown",
   "metadata": {
    "colab_type": "text",
    "id": "60B7BT3qoYok"
   },
   "source": [
    "## **Define Notebook Constants**"
   ]
  },
  {
   "cell_type": "code",
   "execution_count": 77,
   "metadata": {
    "colab": {},
    "colab_type": "code",
    "executionInfo": {
     "elapsed": 2746,
     "status": "ok",
     "timestamp": 1595937784481,
     "user": {
      "displayName": "Purusharth Verma",
      "photoUrl": "https://lh3.googleusercontent.com/a-/AOh14GghQgHxcJCxFUv-XOcVvu5ENjWyF7NPTcaEk8vPWA=s64",
      "userId": "13336520143308835078"
     },
     "user_tz": -330
    },
    "id": "cX7k1hxFoeRx"
   },
   "outputs": [],
   "source": [
    "base_url = '../'\n",
    "dataset_url = base_url + 'Dataset/'\n",
    "dictionary_size = 25000\n",
    "embedding_dim = 64"
   ]
  },
  {
   "cell_type": "markdown",
   "metadata": {
    "colab_type": "text",
    "id": "FbXnqcyZn2hy"
   },
   "source": [
    "## **Importing libraries**"
   ]
  },
  {
   "cell_type": "code",
   "execution_count": 78,
   "metadata": {
    "colab": {},
    "colab_type": "code",
    "executionInfo": {
     "elapsed": 5078,
     "status": "ok",
     "timestamp": 1595937789042,
     "user": {
      "displayName": "Purusharth Verma",
      "photoUrl": "https://lh3.googleusercontent.com/a-/AOh14GghQgHxcJCxFUv-XOcVvu5ENjWyF7NPTcaEk8vPWA=s64",
      "userId": "13336520143308835078"
     },
     "user_tz": -330
    },
    "id": "-Lz9FZS2nhVp"
   },
   "outputs": [],
   "source": [
    "import math\n",
    "import joblib\n",
    "import random\n",
    "import numpy as np\n",
    "import tensorflow as tf\n",
    "from sklearn.manifold import TSNE\n",
    "import matplotlib.pyplot as plt\n",
    "%matplotlib inline\n",
    "\n",
    "plt.rcParams['figure.figsize'] = [35, 35]"
   ]
  },
  {
   "cell_type": "markdown",
   "metadata": {
    "colab_type": "text",
    "id": "Wj2jeNPCo_Yp"
   },
   "source": [
    "## **Building our vocabulary**"
   ]
  },
  {
   "cell_type": "code",
   "execution_count": 79,
   "metadata": {
    "colab": {},
    "colab_type": "code",
    "executionInfo": {
     "elapsed": 9710,
     "status": "ok",
     "timestamp": 1595937795233,
     "user": {
      "displayName": "Purusharth Verma",
      "photoUrl": "https://lh3.googleusercontent.com/a-/AOh14GghQgHxcJCxFUv-XOcVvu5ENjWyF7NPTcaEk8vPWA=s64",
      "userId": "13336520143308835078"
     },
     "user_tz": -330
    },
    "id": "DEBfrTxyo1ok"
   },
   "outputs": [],
   "source": [
    "sentences = []\n",
    "sentences_file = open(dataset_url + 'sentences.txt', 'r')\n",
    "while True:\n",
    "    sentence = sentences_file.readline()\n",
    "    if sentence == '':\n",
    "        break\n",
    "    else:\n",
    "        sentences.append(sentence)"
   ]
  },
  {
   "cell_type": "code",
   "execution_count": 80,
   "metadata": {
    "colab": {
     "base_uri": "https://localhost:8080/",
     "height": 34
    },
    "colab_type": "code",
    "executionInfo": {
     "elapsed": 8625,
     "status": "ok",
     "timestamp": 1595937795240,
     "user": {
      "displayName": "Purusharth Verma",
      "photoUrl": "https://lh3.googleusercontent.com/a-/AOh14GghQgHxcJCxFUv-XOcVvu5ENjWyF7NPTcaEk8vPWA=s64",
      "userId": "13336520143308835078"
     },
     "user_tz": -330
    },
    "id": "bccbrNCspkp7",
    "outputId": "9daebf5c-be39-4316-e235-6213691325c6"
   },
   "outputs": [
    {
     "data": {
      "text/plain": [
       "3999997"
      ]
     },
     "execution_count": 80,
     "metadata": {},
     "output_type": "execute_result"
    }
   ],
   "source": [
    "len(sentences)"
   ]
  },
  {
   "cell_type": "code",
   "execution_count": 81,
   "metadata": {
    "colab": {
     "base_uri": "https://localhost:8080/",
     "height": 364
    },
    "colab_type": "code",
    "executionInfo": {
     "elapsed": 7074,
     "status": "ok",
     "timestamp": 1595937795242,
     "user": {
      "displayName": "Purusharth Verma",
      "photoUrl": "https://lh3.googleusercontent.com/a-/AOh14GghQgHxcJCxFUv-XOcVvu5ENjWyF7NPTcaEk8vPWA=s64",
      "userId": "13336520143308835078"
     },
     "user_tz": -330
    },
    "id": "GgKlJLpjqTaQ",
    "outputId": "0dbe0d08-47ed-4e93-f359-a707a8c87754"
   },
   "outputs": [
    {
     "data": {
      "text/plain": [
       "[' look out into the twilight sky\\n',\n",
       " ' in which are vaguely the tall dark wild rooktrees with their black broad tops\\n',\n",
       " ' the many gravestones\\n',\n",
       " ' and the small church to the right all vague\\n',\n",
       " ' semiexistent to me\\n',\n",
       " ' then bertie i the word\\n',\n",
       " ' rising a note\\n',\n",
       " ' startles me\\n',\n",
       " ' half thrills me\\n',\n",
       " ' anne is at the foot of the ladder\\n',\n",
       " ' up she steps shoves the door open altogether and at once begins lor\\n',\n",
       " ' master bertie\\n',\n",
       " ' why you look as if youd bin seen a ghost out in the graveyard\\n',\n",
       " ' you do\\n',\n",
       " ' gracious alive\\n',\n",
       " ' the eyes of him did you ever now master bertie dont be a fool\\n',\n",
       " ' what do you want i ask\\n',\n",
       " ' if you want me for tea\\n',\n",
       " ' im not coming\\n',\n",
       " ' tell mother purchis so\\n']"
      ]
     },
     "execution_count": 81,
     "metadata": {},
     "output_type": "execute_result"
    }
   ],
   "source": [
    "sentences[100:120]"
   ]
  },
  {
   "cell_type": "code",
   "execution_count": 82,
   "metadata": {
    "colab": {},
    "colab_type": "code",
    "executionInfo": {
     "elapsed": 23617,
     "status": "ok",
     "timestamp": 1595937814061,
     "user": {
      "displayName": "Purusharth Verma",
      "photoUrl": "https://lh3.googleusercontent.com/a-/AOh14GghQgHxcJCxFUv-XOcVvu5ENjWyF7NPTcaEk8vPWA=s64",
      "userId": "13336520143308835078"
     },
     "user_tz": -330
    },
    "id": "yxfDrc_7p0gm"
   },
   "outputs": [],
   "source": [
    "vocabulary = {}\n",
    "for sentence in sentences:\n",
    "    sentence = sentence[:-1]\n",
    "    for word in sentence.split(' '):\n",
    "        word = word.strip()\n",
    "        if len(word) > 0:\n",
    "            if word in vocabulary:\n",
    "                vocabulary[word] += 1\n",
    "            else:\n",
    "                vocabulary[word] = 1"
   ]
  },
  {
   "cell_type": "code",
   "execution_count": 83,
   "metadata": {
    "colab": {},
    "colab_type": "code",
    "executionInfo": {
     "elapsed": 22172,
     "status": "ok",
     "timestamp": 1595937814067,
     "user": {
      "displayName": "Purusharth Verma",
      "photoUrl": "https://lh3.googleusercontent.com/a-/AOh14GghQgHxcJCxFUv-XOcVvu5ENjWyF7NPTcaEk8vPWA=s64",
      "userId": "13336520143308835078"
     },
     "user_tz": -330
    },
    "id": "ngXdmruIqrEa"
   },
   "outputs": [],
   "source": [
    "vocab_list = sorted([(word, vocabulary[word]) for word in vocabulary], key=lambda x: x[1], reverse=True)"
   ]
  },
  {
   "cell_type": "code",
   "execution_count": 84,
   "metadata": {
    "colab": {
     "base_uri": "https://localhost:8080/",
     "height": 364
    },
    "colab_type": "code",
    "executionInfo": {
     "elapsed": 20807,
     "status": "ok",
     "timestamp": 1595937814069,
     "user": {
      "displayName": "Purusharth Verma",
      "photoUrl": "https://lh3.googleusercontent.com/a-/AOh14GghQgHxcJCxFUv-XOcVvu5ENjWyF7NPTcaEk8vPWA=s64",
      "userId": "13336520143308835078"
     },
     "user_tz": -330
    },
    "id": "nmu1sruQqwyi",
    "outputId": "5f26faae-d39e-48d4-fb6a-24d68802090c"
   },
   "outputs": [
    {
     "data": {
      "text/plain": [
       "[('the', 1561965),\n",
       " ('and', 946195),\n",
       " ('to', 851637),\n",
       " ('of', 848709),\n",
       " ('a', 668446),\n",
       " ('i', 484243),\n",
       " ('in', 468653),\n",
       " ('he', 434727),\n",
       " ('was', 396759),\n",
       " ('that', 383186),\n",
       " ('it', 341810),\n",
       " ('his', 335750),\n",
       " ('you', 333165),\n",
       " ('her', 292304),\n",
       " ('with', 267797),\n",
       " ('had', 262003),\n",
       " ('as', 254349),\n",
       " ('for', 245261),\n",
       " ('she', 240711),\n",
       " ('not', 219948)]"
      ]
     },
     "execution_count": 84,
     "metadata": {},
     "output_type": "execute_result"
    }
   ],
   "source": [
    "vocab_list[:20]"
   ]
  },
  {
   "cell_type": "code",
   "execution_count": 85,
   "metadata": {
    "colab": {},
    "colab_type": "code",
    "executionInfo": {
     "elapsed": 18922,
     "status": "ok",
     "timestamp": 1595937814072,
     "user": {
      "displayName": "Purusharth Verma",
      "photoUrl": "https://lh3.googleusercontent.com/a-/AOh14GghQgHxcJCxFUv-XOcVvu5ENjWyF7NPTcaEk8vPWA=s64",
      "userId": "13336520143308835078"
     },
     "user_tz": -330
    },
    "id": "cbukA5Qeq1c9"
   },
   "outputs": [],
   "source": [
    "vocab_list_trimmed = vocab_list[:dictionary_size]"
   ]
  },
  {
   "cell_type": "code",
   "execution_count": 86,
   "metadata": {
    "colab": {},
    "colab_type": "code",
    "executionInfo": {
     "elapsed": 17478,
     "status": "ok",
     "timestamp": 1595937814074,
     "user": {
      "displayName": "Purusharth Verma",
      "photoUrl": "https://lh3.googleusercontent.com/a-/AOh14GghQgHxcJCxFUv-XOcVvu5ENjWyF7NPTcaEk8vPWA=s64",
      "userId": "13336520143308835078"
     },
     "user_tz": -330
    },
    "id": "oig2E-I0rK_A"
   },
   "outputs": [],
   "source": [
    "vocabulary_trimmed = {}\n",
    "for word, freq in vocab_list_trimmed:\n",
    "    vocabulary_trimmed[word] = freq"
   ]
  },
  {
   "cell_type": "code",
   "execution_count": 87,
   "metadata": {
    "colab": {},
    "colab_type": "code",
    "executionInfo": {
     "elapsed": 16287,
     "status": "ok",
     "timestamp": 1595937814076,
     "user": {
      "displayName": "Purusharth Verma",
      "photoUrl": "https://lh3.googleusercontent.com/a-/AOh14GghQgHxcJCxFUv-XOcVvu5ENjWyF7NPTcaEk8vPWA=s64",
      "userId": "13336520143308835078"
     },
     "user_tz": -330
    },
    "id": "19W-bB-YrOZD"
   },
   "outputs": [],
   "source": [
    "word_to_index = {}\n",
    "index_to_word = {}\n",
    "for i, word in enumerate(sorted(vocabulary_trimmed.keys())):\n",
    "    word_to_index[word] = i\n",
    "    index_to_word[i] = word"
   ]
  },
  {
   "cell_type": "markdown",
   "metadata": {
    "colab_type": "text",
    "id": "tsb2HPTXrwZl"
   },
   "source": [
    "## **Prepare Context-Target pairs**"
   ]
  },
  {
   "cell_type": "code",
   "execution_count": 12,
   "metadata": {
    "colab": {},
    "colab_type": "code",
    "executionInfo": {
     "elapsed": 70742,
     "status": "ok",
     "timestamp": 1595937870387,
     "user": {
      "displayName": "Purusharth Verma",
      "photoUrl": "https://lh3.googleusercontent.com/a-/AOh14GghQgHxcJCxFUv-XOcVvu5ENjWyF7NPTcaEk8vPWA=s64",
      "userId": "13336520143308835078"
     },
     "user_tz": -330
    },
    "id": "6zvSes4KrQ0R"
   },
   "outputs": [],
   "source": [
    "context_target_pairs = []\n",
    "for i, sentence in enumerate(sentences):\n",
    "    words = list(filter(lambda x: len(x) > 0, map(str.strip, sentence.split(' '))))\n",
    "    x = 0\n",
    "    while x < len(words):\n",
    "        if (x + 4 < len(words) and words[x] in word_to_index and words[x + 1] in word_to_index \n",
    "            and words[x + 2] in word_to_index and words[x + 3] in word_to_index \n",
    "            and words[x + 4] in word_to_index):\n",
    "            context_target_pairs.append(((word_to_index[words[x]], word_to_index[words[x + 1]], \n",
    "                                    word_to_index[words[x + 2]], word_to_index[words[x + 3]]), \n",
    "                                    word_to_index[words[x + 4]]))\n",
    "        x += 1"
   ]
  },
  {
   "cell_type": "code",
   "execution_count": 13,
   "metadata": {
    "colab": {
     "base_uri": "https://localhost:8080/",
     "height": 34
    },
    "colab_type": "code",
    "executionInfo": {
     "elapsed": 68971,
     "status": "ok",
     "timestamp": 1595937870400,
     "user": {
      "displayName": "Purusharth Verma",
      "photoUrl": "https://lh3.googleusercontent.com/a-/AOh14GghQgHxcJCxFUv-XOcVvu5ENjWyF7NPTcaEk8vPWA=s64",
      "userId": "13336520143308835078"
     },
     "user_tz": -330
    },
    "id": "6LA14QyXslXq",
    "outputId": "3eee70a2-90a6-4f00-b464-abd40872e486"
   },
   "outputs": [
    {
     "data": {
      "text/plain": [
       "15458366"
      ]
     },
     "execution_count": 13,
     "metadata": {
      "tags": []
     },
     "output_type": "execute_result"
    }
   ],
   "source": [
    "len(context_target_pairs)"
   ]
  },
  {
   "cell_type": "code",
   "execution_count": 14,
   "metadata": {
    "colab": {
     "base_uri": "https://localhost:8080/",
     "height": 364
    },
    "colab_type": "code",
    "executionInfo": {
     "elapsed": 66502,
     "status": "ok",
     "timestamp": 1595937870404,
     "user": {
      "displayName": "Purusharth Verma",
      "photoUrl": "https://lh3.googleusercontent.com/a-/AOh14GghQgHxcJCxFUv-XOcVvu5ENjWyF7NPTcaEk8vPWA=s64",
      "userId": "13336520143308835078"
     },
     "user_tz": -330
    },
    "id": "3R_jgyP_s09_",
    "outputId": "3db822d1-f70a-4417-f748-302742b25dfe"
   },
   "outputs": [
    {
     "data": {
      "text/plain": [
       "[((6804, 984, 9792, 22457), 20305),\n",
       " ((984, 9792, 22457, 20305), 11461),\n",
       " ((9792, 22457, 20305, 11461), 233),\n",
       " ((22457, 20305, 11461, 233), 4977),\n",
       " ((20305, 11461, 233, 4977), 24378),\n",
       " ((11461, 233, 4977, 24378), 2105),\n",
       " ((984, 22133, 4360, 13786), 12460),\n",
       " ((22133, 4360, 13786, 12460), 10824),\n",
       " ((4360, 13786, 12460, 10824), 10306),\n",
       " ((13786, 12460, 10824, 10306), 15543),\n",
       " ((12460, 10824, 10306, 15543), 14881),\n",
       " ((10824, 10306, 15543, 14881), 1313),\n",
       " ((10306, 15543, 14881, 1313), 984),\n",
       " ((15543, 14881, 1313, 984), 22147),\n",
       " ((14881, 1313, 984, 22147), 11189),\n",
       " ((1313, 984, 22147, 11189), 24080),\n",
       " ((984, 22147, 11189, 24080), 13150),\n",
       " ((22147, 11189, 24080, 13150), 6804),\n",
       " ((11189, 24080, 13150, 6804), 984),\n",
       " ((24080, 13150, 6804, 984), 24150)]"
      ]
     },
     "execution_count": 14,
     "metadata": {
      "tags": []
     },
     "output_type": "execute_result"
    }
   ],
   "source": [
    "context_target_pairs[1000:1020]"
   ]
  },
  {
   "cell_type": "markdown",
   "metadata": {
    "colab_type": "text",
    "id": "DHV9hEj1tIsI"
   },
   "source": [
    "## **Define Model**"
   ]
  },
  {
   "cell_type": "code",
   "execution_count": 91,
   "metadata": {
    "colab": {},
    "colab_type": "code",
    "executionInfo": {
     "elapsed": 64227,
     "status": "ok",
     "timestamp": 1595937870407,
     "user": {
      "displayName": "Purusharth Verma",
      "photoUrl": "https://lh3.googleusercontent.com/a-/AOh14GghQgHxcJCxFUv-XOcVvu5ENjWyF7NPTcaEk8vPWA=s64",
      "userId": "13336520143308835078"
     },
     "user_tz": -330
    },
    "id": "p8dS6cRMs-ic"
   },
   "outputs": [],
   "source": [
    "def get_model():\n",
    "    inputs = tf.keras.layers.Input(shape=(4,), dtype='float32')\n",
    "    embeddings = tf.keras.layers.Embedding(dictionary_size, embedding_dim, trainable=True)(inputs)\n",
    "    flatten = tf.keras.layers.Flatten()(embeddings)\n",
    "    outputs = tf.keras.layers.Dense(dictionary_size, activation='softmax')(flatten)\n",
    "    model = tf.keras.Model(inputs=[inputs], outputs=[outputs])\n",
    "    return model"
   ]
  },
  {
   "cell_type": "code",
   "execution_count": 92,
   "metadata": {
    "colab": {},
    "colab_type": "code",
    "executionInfo": {
     "elapsed": 72515,
     "status": "ok",
     "timestamp": 1595937880165,
     "user": {
      "displayName": "Purusharth Verma",
      "photoUrl": "https://lh3.googleusercontent.com/a-/AOh14GghQgHxcJCxFUv-XOcVvu5ENjWyF7NPTcaEk8vPWA=s64",
      "userId": "13336520143308835078"
     },
     "user_tz": -330
    },
    "id": "GAUprVwXt2CH"
   },
   "outputs": [],
   "source": [
    "embedding_model = get_model()"
   ]
  },
  {
   "cell_type": "code",
   "execution_count": 93,
   "metadata": {
    "colab": {
     "base_uri": "https://localhost:8080/",
     "height": 295
    },
    "colab_type": "code",
    "executionInfo": {
     "elapsed": 71304,
     "status": "ok",
     "timestamp": 1595937880176,
     "user": {
      "displayName": "Purusharth Verma",
      "photoUrl": "https://lh3.googleusercontent.com/a-/AOh14GghQgHxcJCxFUv-XOcVvu5ENjWyF7NPTcaEk8vPWA=s64",
      "userId": "13336520143308835078"
     },
     "user_tz": -330
    },
    "id": "LkE9c3NDt6uJ",
    "outputId": "1556a35d-2cc5-43d0-8f1b-619caa36cb0f"
   },
   "outputs": [
    {
     "name": "stdout",
     "output_type": "stream",
     "text": [
      "Model: \"model_1\"\n",
      "_________________________________________________________________\n",
      "Layer (type)                 Output Shape              Param #   \n",
      "=================================================================\n",
      "input_2 (InputLayer)         [(None, 4)]               0         \n",
      "_________________________________________________________________\n",
      "embedding_1 (Embedding)      (None, 4, 64)             1600000   \n",
      "_________________________________________________________________\n",
      "flatten_1 (Flatten)          (None, 256)               0         \n",
      "_________________________________________________________________\n",
      "dense_1 (Dense)              (None, 25000)             6425000   \n",
      "=================================================================\n",
      "Total params: 8,025,000\n",
      "Trainable params: 8,025,000\n",
      "Non-trainable params: 0\n",
      "_________________________________________________________________\n"
     ]
    }
   ],
   "source": [
    "embedding_model.summary()"
   ]
  },
  {
   "cell_type": "markdown",
   "metadata": {
    "colab_type": "text",
    "id": "wF6EfbYTwHKJ"
   },
   "source": [
    "## **Fit model to dataset**"
   ]
  },
  {
   "cell_type": "code",
   "execution_count": 18,
   "metadata": {
    "colab": {},
    "colab_type": "code",
    "executionInfo": {
     "elapsed": 68230,
     "status": "ok",
     "timestamp": 1595937880181,
     "user": {
      "displayName": "Purusharth Verma",
      "photoUrl": "https://lh3.googleusercontent.com/a-/AOh14GghQgHxcJCxFUv-XOcVvu5ENjWyF7NPTcaEk8vPWA=s64",
      "userId": "13336520143308835078"
     },
     "user_tz": -330
    },
    "id": "v_OVUGuyt-p6"
   },
   "outputs": [],
   "source": [
    "def get_batch(start, stop, context_target_pairs):\n",
    "    length = stop - start + 1\n",
    "    X = np.zeros((length, 4))\n",
    "    Y = np.zeros((length, dictionary_size))\n",
    "    for i in range(start, stop + 1):\n",
    "        c_ind, t_ind = (\n",
    "            (\n",
    "                context_target_pairs[i][0][0], \n",
    "                context_target_pairs[i][0][1], \n",
    "                context_target_pairs[i][0][2], \n",
    "                context_target_pairs[i][0][3]\n",
    "            ), \n",
    "            context_target_pairs[i][1]\n",
    "            )\n",
    "        X[i - start, :] = np.array(c_ind)\n",
    "        Y[i - start, t_ind] = 1\n",
    "    return X, Y"
   ]
  },
  {
   "cell_type": "code",
   "execution_count": 19,
   "metadata": {
    "colab": {},
    "colab_type": "code",
    "executionInfo": {
     "elapsed": 66206,
     "status": "ok",
     "timestamp": 1595937880185,
     "user": {
      "displayName": "Purusharth Verma",
      "photoUrl": "https://lh3.googleusercontent.com/a-/AOh14GghQgHxcJCxFUv-XOcVvu5ENjWyF7NPTcaEk8vPWA=s64",
      "userId": "13336520143308835078"
     },
     "user_tz": -330
    },
    "id": "P3tj77TgxR7y"
   },
   "outputs": [],
   "source": [
    "def batchLoader(files, batch_size):\n",
    "    L = len(files)\n",
    "    while True:\n",
    "        batch_start = 0\n",
    "        batch_end = batch_size\n",
    "        while batch_start < L:\n",
    "            limit = min(batch_end, L - 1)\n",
    "            yield get_batch(batch_start, limit, files)  \n",
    "            batch_start += batch_size   \n",
    "            batch_end += batch_size"
   ]
  },
  {
   "cell_type": "code",
   "execution_count": 20,
   "metadata": {
    "colab": {},
    "colab_type": "code",
    "executionInfo": {
     "elapsed": 77956,
     "status": "ok",
     "timestamp": 1595937893957,
     "user": {
      "displayName": "Purusharth Verma",
      "photoUrl": "https://lh3.googleusercontent.com/a-/AOh14GghQgHxcJCxFUv-XOcVvu5ENjWyF7NPTcaEk8vPWA=s64",
      "userId": "13336520143308835078"
     },
     "user_tz": -330
    },
    "id": "EPDSrpysyCm7"
   },
   "outputs": [],
   "source": [
    "random.shuffle(context_target_pairs)\n",
    "context_target_pairs_test = context_target_pairs[:30000]\n",
    "context_target_pairs_train = context_target_pairs[30000:]"
   ]
  },
  {
   "cell_type": "code",
   "execution_count": 94,
   "metadata": {
    "colab": {},
    "colab_type": "code",
    "executionInfo": {
     "elapsed": 73365,
     "status": "ok",
     "timestamp": 1595937893964,
     "user": {
      "displayName": "Purusharth Verma",
      "photoUrl": "https://lh3.googleusercontent.com/a-/AOh14GghQgHxcJCxFUv-XOcVvu5ENjWyF7NPTcaEk8vPWA=s64",
      "userId": "13336520143308835078"
     },
     "user_tz": -330
    },
    "id": "-UWRZgBOEh31"
   },
   "outputs": [],
   "source": [
    "checkpoint_filepath = base_url + 'Embedding/embedding_weights.h5'\n",
    "model_checkpoint_callback = tf.keras.callbacks.ModelCheckpoint(\n",
    "    filepath=checkpoint_filepath, \n",
    "    monitor='loss',\n",
    "    save_weights_only=True,\n",
    "    save_best_only=True, \n",
    "    mode='min'\n",
    ")"
   ]
  },
  {
   "cell_type": "code",
   "execution_count": 22,
   "metadata": {
    "colab": {},
    "colab_type": "code",
    "executionInfo": {
     "elapsed": 85383,
     "status": "ok",
     "timestamp": 1595914828640,
     "user": {
      "displayName": "Purusharth Verma",
      "photoUrl": "https://lh3.googleusercontent.com/a-/AOh14GghQgHxcJCxFUv-XOcVvu5ENjWyF7NPTcaEk8vPWA=s64",
      "userId": "13336520143308835078"
     },
     "user_tz": -330
    },
    "id": "_YuNPmZnylpM"
   },
   "outputs": [],
   "source": [
    "embedding_model.compile(\n",
    "    loss=tf.keras.losses.CategoricalCrossentropy(),\n",
    "    optimizer=tf.keras.optimizers.Adam(learning_rate=0.0001),\n",
    "    metrics=[\"accuracy\"],\n",
    ")"
   ]
  },
  {
   "cell_type": "code",
   "execution_count": 23,
   "metadata": {
    "colab": {
     "base_uri": "https://localhost:8080/",
     "height": 454
    },
    "colab_type": "code",
    "executionInfo": {
     "elapsed": 19249271,
     "status": "ok",
     "timestamp": 1595933993156,
     "user": {
      "displayName": "Purusharth Verma",
      "photoUrl": "https://lh3.googleusercontent.com/a-/AOh14GghQgHxcJCxFUv-XOcVvu5ENjWyF7NPTcaEk8vPWA=s64",
      "userId": "13336520143308835078"
     },
     "user_tz": -330
    },
    "id": "0Zc3XTaSzC8Y",
    "outputId": "22c50543-9d33-4dee-926b-e74579b15996"
   },
   "outputs": [
    {
     "name": "stdout",
     "output_type": "stream",
     "text": [
      "WARNING:tensorflow:From <ipython-input-23-e39759afe320>:3: Model.fit_generator (from tensorflow.python.keras.engine.training) is deprecated and will be removed in a future version.\n",
      "Instructions for updating:\n",
      "Please use Model.fit, which supports generators.\n",
      "Epoch 1/10\n",
      "30133/30133 [==============================] - 1942s 64ms/step - loss: 6.2732 - accuracy: 0.1213\n",
      "Epoch 2/10\n",
      "30133/30133 [==============================] - 1920s 64ms/step - loss: 5.6104 - accuracy: 0.1556\n",
      "Epoch 3/10\n",
      "30133/30133 [==============================] - 1918s 64ms/step - loss: 5.4421 - accuracy: 0.1649\n",
      "Epoch 4/10\n",
      "30133/30133 [==============================] - 1898s 63ms/step - loss: 5.3424 - accuracy: 0.1701\n",
      "Epoch 5/10\n",
      "30133/30133 [==============================] - 1904s 63ms/step - loss: 5.2715 - accuracy: 0.1738\n",
      "Epoch 6/10\n",
      "30133/30133 [==============================] - 1901s 63ms/step - loss: 5.2167 - accuracy: 0.1766\n",
      "Epoch 7/10\n",
      "30133/30133 [==============================] - 1907s 63ms/step - loss: 5.1723 - accuracy: 0.1787\n",
      "Epoch 8/10\n",
      "30133/30133 [==============================] - 1902s 63ms/step - loss: 5.1352 - accuracy: 0.1805\n",
      "Epoch 9/10\n",
      "30133/30133 [==============================] - 1915s 64ms/step - loss: 5.1036 - accuracy: 0.1819\n",
      "Epoch 10/10\n",
      "30133/30133 [==============================] - 1953s 65ms/step - loss: 5.0762 - accuracy: 0.1832\n"
     ]
    },
    {
     "data": {
      "text/plain": [
       "<tensorflow.python.keras.callbacks.History at 0x7f46c04a15f8>"
      ]
     },
     "execution_count": 23,
     "metadata": {
      "tags": []
     },
     "output_type": "execute_result"
    }
   ],
   "source": [
    "embedding_model.fit_generator(batchLoader(context_target_pairs_train, 512), \n",
    "        steps_per_epoch=len(context_target_pairs_train) // 512 ,epochs=10, \n",
    "        callbacks=[model_checkpoint_callback])"
   ]
  },
  {
   "cell_type": "markdown",
   "metadata": {
    "colab_type": "text",
    "id": "fORFdRXr01lj"
   },
   "source": [
    "## **Evaluating model**"
   ]
  },
  {
   "cell_type": "code",
   "execution_count": 95,
   "metadata": {
    "colab": {},
    "colab_type": "code",
    "executionInfo": {
     "elapsed": 13805,
     "status": "ok",
     "timestamp": 1595937933796,
     "user": {
      "displayName": "Purusharth Verma",
      "photoUrl": "https://lh3.googleusercontent.com/a-/AOh14GghQgHxcJCxFUv-XOcVvu5ENjWyF7NPTcaEk8vPWA=s64",
      "userId": "13336520143308835078"
     },
     "user_tz": -330
    },
    "id": "kOVN9-jhTsFq"
   },
   "outputs": [],
   "source": [
    "embedding_model.load_weights(checkpoint_filepath)"
   ]
  },
  {
   "cell_type": "code",
   "execution_count": 23,
   "metadata": {
    "colab": {
     "base_uri": "https://localhost:8080/",
     "height": 52
    },
    "colab_type": "code",
    "executionInfo": {
     "elapsed": 15533,
     "status": "ok",
     "timestamp": 1595937942838,
     "user": {
      "displayName": "Purusharth Verma",
      "photoUrl": "https://lh3.googleusercontent.com/a-/AOh14GghQgHxcJCxFUv-XOcVvu5ENjWyF7NPTcaEk8vPWA=s64",
      "userId": "13336520143308835078"
     },
     "user_tz": -330
    },
    "id": "YIR8yPwvtYRS",
    "outputId": "e7d48422-7398-49b7-c3fc-4413f78bd22e"
   },
   "outputs": [
    {
     "name": "stdout",
     "output_type": "stream",
     "text": [
      "Average Loss = 5.017210946713853\n",
      "Accuracy = 0.18566666666666667\n"
     ]
    }
   ],
   "source": [
    "loss = 0\n",
    "correct = 0\n",
    "total = 0\n",
    "inputs = np.array([context_target_pairs_test[i][0] for i in range(len(context_target_pairs_test))])\n",
    "outputs = embedding_model.predict(inputs)\n",
    "for i in range(len(context_target_pairs_test)):\n",
    "    loss += -math.log(outputs[i, context_target_pairs_test[i][1]])\n",
    "    prediction = np.argmax(outputs[i, :])\n",
    "    if prediction == context_target_pairs_test[i][1]:\n",
    "        correct += 1\n",
    "    total += 1\n",
    "\n",
    "print(\"Average Loss =\", loss / total)\n",
    "print(\"Accuracy =\", correct / total)"
   ]
  },
  {
   "cell_type": "markdown",
   "metadata": {
    "colab_type": "text",
    "id": "ykhD2hHjkwdz"
   },
   "source": [
    "## **Saving Embeddings**"
   ]
  },
  {
   "cell_type": "code",
   "execution_count": null,
   "metadata": {
    "colab": {
     "base_uri": "https://localhost:8080/",
     "height": 34
    },
    "colab_type": "code",
    "executionInfo": {
     "elapsed": 1478,
     "status": "ok",
     "timestamp": 1595876054440,
     "user": {
      "displayName": "Purusharth Verma",
      "photoUrl": "https://lh3.googleusercontent.com/a-/AOh14GghQgHxcJCxFUv-XOcVvu5ENjWyF7NPTcaEk8vPWA=s64",
      "userId": "13336520143308835078"
     },
     "user_tz": -330
    },
    "id": "EYQrzTIMk1L3",
    "outputId": "e81cdb0a-5af7-4c75-98a2-a3c814c1cd38"
   },
   "outputs": [
    {
     "data": {
      "text/plain": [
       "['drive/My Drive/Colab Notebooks/Embeddings/Embedding/index_to_word_map.pkl']"
      ]
     },
     "execution_count": 12,
     "metadata": {
      "tags": []
     },
     "output_type": "execute_result"
    }
   ],
   "source": [
    "joblib.dump(embedding_mat, base_url + 'Embedding/embeddings.pkl')\n",
    "joblib.dump(word_to_index, base_url + 'Embedding/word_to_index_map.pkl')\n",
    "joblib.dump(index_to_word, base_url + 'Embedding/index_to_word_map.pkl')"
   ]
  },
  {
   "cell_type": "markdown",
   "metadata": {
    "colab_type": "text",
    "id": "bI1Lvxh81luo"
   },
   "source": [
    "## **Testing embeddings by trying to solve analogical reasoning tasks**"
   ]
  },
  {
   "cell_type": "code",
   "execution_count": 96,
   "metadata": {
    "colab": {
     "base_uri": "https://localhost:8080/",
     "height": 34
    },
    "colab_type": "code",
    "executionInfo": {
     "elapsed": 2043,
     "status": "ok",
     "timestamp": 1595937962915,
     "user": {
      "displayName": "Purusharth Verma",
      "photoUrl": "https://lh3.googleusercontent.com/a-/AOh14GghQgHxcJCxFUv-XOcVvu5ENjWyF7NPTcaEk8vPWA=s64",
      "userId": "13336520143308835078"
     },
     "user_tz": -330
    },
    "id": "JZ5OCpy726hB",
    "outputId": "5fc04980-d8e1-4c0b-9b7e-b74143c1d4e0"
   },
   "outputs": [
    {
     "data": {
      "text/plain": [
       "(25000, 64)"
      ]
     },
     "execution_count": 96,
     "metadata": {},
     "output_type": "execute_result"
    }
   ],
   "source": [
    "embedding_mat = np.array(embedding_model.layers[1].get_weights())[0]\n",
    "embedding_mat.shape"
   ]
  },
  {
   "cell_type": "code",
   "execution_count": 97,
   "metadata": {
    "colab": {},
    "colab_type": "code",
    "executionInfo": {
     "elapsed": 1785,
     "status": "ok",
     "timestamp": 1595937965582,
     "user": {
      "displayName": "Purusharth Verma",
      "photoUrl": "https://lh3.googleusercontent.com/a-/AOh14GghQgHxcJCxFUv-XOcVvu5ENjWyF7NPTcaEk8vPWA=s64",
      "userId": "13336520143308835078"
     },
     "user_tz": -330
    },
    "id": "G7f2D9e4u5c5"
   },
   "outputs": [],
   "source": [
    "def cosine_similarity(vec1, vec2):\n",
    "    return np.sum(vec1 * vec2) / ((np.sum(vec1 ** 2) ** 0.5) * (np.sum(vec2 ** 2) ** 0.5))"
   ]
  },
  {
   "cell_type": "code",
   "execution_count": 98,
   "metadata": {
    "colab": {},
    "colab_type": "code",
    "executionInfo": {
     "elapsed": 1941,
     "status": "ok",
     "timestamp": 1595937966517,
     "user": {
      "displayName": "Purusharth Verma",
      "photoUrl": "https://lh3.googleusercontent.com/a-/AOh14GghQgHxcJCxFUv-XOcVvu5ENjWyF7NPTcaEk8vPWA=s64",
      "userId": "13336520143308835078"
     },
     "user_tz": -330
    },
    "id": "XlLUbOfa19sW"
   },
   "outputs": [],
   "source": [
    "def squared_diff(vec1, vec2):\n",
    "    return -np.sum((vec1 - vec2) ** 2)"
   ]
  },
  {
   "cell_type": "code",
   "execution_count": 99,
   "metadata": {
    "colab": {},
    "colab_type": "code",
    "executionInfo": {
     "elapsed": 4112,
     "status": "ok",
     "timestamp": 1595937999112,
     "user": {
      "displayName": "Purusharth Verma",
      "photoUrl": "https://lh3.googleusercontent.com/a-/AOh14GghQgHxcJCxFUv-XOcVvu5ENjWyF7NPTcaEk8vPWA=s64",
      "userId": "13336520143308835078"
     },
     "user_tz": -330
    },
    "id": "b4coh2fK2CX5"
   },
   "outputs": [],
   "source": [
    "def analogical_reasoning(w1, w2, w3):\n",
    "    i1, i2, i3 = word_to_index[w1], word_to_index[w2], word_to_index[w3]\n",
    "    e1, e2, e3 = embedding_mat[i1, :], embedding_mat[i2, :], embedding_mat[i3, :]\n",
    "    top_5 = []\n",
    "    for i in range(dictionary_size):\n",
    "        if i not in [i1, i2, i3]:\n",
    "            sq_diff = squared_diff(embedding_mat[i, :], e3 - e1 + e2)\n",
    "            top_5.append((sq_diff, i))\n",
    "            top_5 = sorted(top_5, key=lambda x: x[0], reverse=True)\n",
    "            if len(top_5) > 5:\n",
    "                top_5.pop()\n",
    "    return [(index_to_word[top_5[i][1]], top_5[i][0]) for i in range(len(top_5))]"
   ]
  },
  {
   "cell_type": "code",
   "execution_count": 100,
   "metadata": {
    "colab": {
     "base_uri": "https://localhost:8080/",
     "height": 104
    },
    "colab_type": "code",
    "executionInfo": {
     "elapsed": 2183,
     "status": "ok",
     "timestamp": 1595938001946,
     "user": {
      "displayName": "Purusharth Verma",
      "photoUrl": "https://lh3.googleusercontent.com/a-/AOh14GghQgHxcJCxFUv-XOcVvu5ENjWyF7NPTcaEk8vPWA=s64",
      "userId": "13336520143308835078"
     },
     "user_tz": -330
    },
    "id": "Qy-Llg7h25HC",
    "outputId": "80a24b79-0c34-4609-9f35-8b0876df2f07"
   },
   "outputs": [
    {
     "data": {
      "text/plain": [
       "[('women', -8.192905),\n",
       " ('ladies', -8.783694),\n",
       " ('children', -9.343114),\n",
       " ('gentlemen', -10.360927),\n",
       " ('persons', -10.883252)]"
      ]
     },
     "execution_count": 100,
     "metadata": {},
     "output_type": "execute_result"
    }
   ],
   "source": [
    "analogical_reasoning('king', 'queen', 'men')"
   ]
  },
  {
   "cell_type": "code",
   "execution_count": 101,
   "metadata": {
    "colab": {
     "base_uri": "https://localhost:8080/",
     "height": 104
    },
    "colab_type": "code",
    "executionInfo": {
     "elapsed": 1796,
     "status": "ok",
     "timestamp": 1595938015096,
     "user": {
      "displayName": "Purusharth Verma",
      "photoUrl": "https://lh3.googleusercontent.com/a-/AOh14GghQgHxcJCxFUv-XOcVvu5ENjWyF7NPTcaEk8vPWA=s64",
      "userId": "13336520143308835078"
     },
     "user_tz": -330
    },
    "id": "mNhlIJA6UPFz",
    "outputId": "042912fe-f242-4796-d773-1ef06bc7b3b2"
   },
   "outputs": [
    {
     "data": {
      "text/plain": [
       "[('larger', -13.435591),\n",
       " ('heavier', -15.472463),\n",
       " ('smaller', -15.926177),\n",
       " ('greater', -16.481712),\n",
       " ('shorter', -16.888102)]"
      ]
     },
     "execution_count": 101,
     "metadata": {},
     "output_type": "execute_result"
    }
   ],
   "source": [
    "analogical_reasoning('tall', 'taller', 'large')"
   ]
  },
  {
   "cell_type": "code",
   "execution_count": 102,
   "metadata": {
    "colab": {
     "base_uri": "https://localhost:8080/",
     "height": 104
    },
    "colab_type": "code",
    "executionInfo": {
     "elapsed": 1936,
     "status": "ok",
     "timestamp": 1595938051637,
     "user": {
      "displayName": "Purusharth Verma",
      "photoUrl": "https://lh3.googleusercontent.com/a-/AOh14GghQgHxcJCxFUv-XOcVvu5ENjWyF7NPTcaEk8vPWA=s64",
      "userId": "13336520143308835078"
     },
     "user_tz": -330
    },
    "id": "YlFYLUm6UZm0",
    "outputId": "111d162c-e361-4ece-c8c0-fde89adfcf10"
   },
   "outputs": [
    {
     "data": {
      "text/plain": [
       "[('worse', -13.028595),\n",
       " ('wiser', -14.4294),\n",
       " ('happier', -16.276688),\n",
       " ('safer', -17.131199),\n",
       " ('harder', -17.346956)]"
      ]
     },
     "execution_count": 102,
     "metadata": {},
     "output_type": "execute_result"
    }
   ],
   "source": [
    "analogical_reasoning('good', 'better', 'bad')"
   ]
  },
  {
   "cell_type": "markdown",
   "metadata": {
    "colab_type": "text",
    "id": "CfiDPWeI3S2t"
   },
   "source": [
    "## **Visualizing the trained embeddings using the t-SNE algorithm**"
   ]
  },
  {
   "cell_type": "code",
   "execution_count": 37,
   "metadata": {
    "colab": {
     "base_uri": "https://localhost:8080/",
     "height": 555
    },
    "colab_type": "code",
    "executionInfo": {
     "elapsed": 2879201,
     "status": "ok",
     "timestamp": 1595944121463,
     "user": {
      "displayName": "Purusharth Verma",
      "photoUrl": "https://lh3.googleusercontent.com/a-/AOh14GghQgHxcJCxFUv-XOcVvu5ENjWyF7NPTcaEk8vPWA=s64",
      "userId": "13336520143308835078"
     },
     "user_tz": -330
    },
    "id": "KGMwDNyA3Zvj",
    "outputId": "def6df93-0089-459c-bfd0-71fed2b8c359"
   },
   "outputs": [
    {
     "name": "stdout",
     "output_type": "stream",
     "text": [
      "[t-SNE] Computing 67 nearest neighbors...\n",
      "[t-SNE] Indexed 25000 samples in 0.221s...\n",
      "[t-SNE] Computed neighbors for 25000 samples in 92.882s...\n",
      "[t-SNE] Computed conditional probabilities for sample 1000 / 25000\n",
      "[t-SNE] Computed conditional probabilities for sample 2000 / 25000\n",
      "[t-SNE] Computed conditional probabilities for sample 3000 / 25000\n",
      "[t-SNE] Computed conditional probabilities for sample 4000 / 25000\n",
      "[t-SNE] Computed conditional probabilities for sample 5000 / 25000\n",
      "[t-SNE] Computed conditional probabilities for sample 6000 / 25000\n",
      "[t-SNE] Computed conditional probabilities for sample 7000 / 25000\n",
      "[t-SNE] Computed conditional probabilities for sample 8000 / 25000\n",
      "[t-SNE] Computed conditional probabilities for sample 9000 / 25000\n",
      "[t-SNE] Computed conditional probabilities for sample 10000 / 25000\n",
      "[t-SNE] Computed conditional probabilities for sample 11000 / 25000\n",
      "[t-SNE] Computed conditional probabilities for sample 12000 / 25000\n",
      "[t-SNE] Computed conditional probabilities for sample 13000 / 25000\n",
      "[t-SNE] Computed conditional probabilities for sample 14000 / 25000\n",
      "[t-SNE] Computed conditional probabilities for sample 15000 / 25000\n",
      "[t-SNE] Computed conditional probabilities for sample 16000 / 25000\n",
      "[t-SNE] Computed conditional probabilities for sample 17000 / 25000\n",
      "[t-SNE] Computed conditional probabilities for sample 18000 / 25000\n",
      "[t-SNE] Computed conditional probabilities for sample 19000 / 25000\n",
      "[t-SNE] Computed conditional probabilities for sample 20000 / 25000\n",
      "[t-SNE] Computed conditional probabilities for sample 21000 / 25000\n",
      "[t-SNE] Computed conditional probabilities for sample 22000 / 25000\n",
      "[t-SNE] Computed conditional probabilities for sample 23000 / 25000\n",
      "[t-SNE] Computed conditional probabilities for sample 24000 / 25000\n",
      "[t-SNE] Computed conditional probabilities for sample 25000 / 25000\n",
      "[t-SNE] Mean sigma: 0.290403\n",
      "[t-SNE] KL divergence after 250 iterations with early exaggeration: 102.298119\n",
      "[t-SNE] KL divergence after 10000 iterations: 2.975460\n"
     ]
    }
   ],
   "source": [
    "embedding_map2D = TSNE(n_components=2, perplexity=22, learning_rate=250, n_iter=10000, \n",
    "                    verbose=1).fit_transform(embedding_mat)"
   ]
  },
  {
   "cell_type": "code",
   "execution_count": 128,
   "metadata": {
    "colab": {},
    "colab_type": "code",
    "executionInfo": {
     "elapsed": 2122,
     "status": "ok",
     "timestamp": 1595944139255,
     "user": {
      "displayName": "Purusharth Verma",
      "photoUrl": "https://lh3.googleusercontent.com/a-/AOh14GghQgHxcJCxFUv-XOcVvu5ENjWyF7NPTcaEk8vPWA=s64",
      "userId": "13336520143308835078"
     },
     "user_tz": -330
    },
    "id": "CyE0dcZE3rlB"
   },
   "outputs": [],
   "source": [
    "def distance(x1, y1, x2, y2):\n",
    "        return ((y2 - y1) ** 2 + (x2 - x1) ** 2) ** 0.5\n",
    "\n",
    "def plot_words(words, rad1=2, rad2=5):    \n",
    "    ind = [word_to_index[word] for word in words]\n",
    "    fig, ax = plt.subplots()\n",
    "    ant_pts_dict = {}\n",
    "    pts_dict = {}\n",
    "    for i in ind:\n",
    "        x, y = embedding_map2D[i, 0], embedding_map2D[i, 1]\n",
    "        close = True\n",
    "        while close:\n",
    "            x += ((-1) ** (random.randint(1, 2))) * 0.8 * rad1 * random.random()\n",
    "            y += ((-1) ** (random.randint(1, 2))) * 0.8 * rad1 * random.random()\n",
    "            curr_close = False\n",
    "            for x2, y2 in pts_dict:\n",
    "                if distance(x, y, x2, y2) < rad1:\n",
    "                    curr_close = True\n",
    "                    break\n",
    "            close = curr_close\n",
    "        ax.scatter(x, y, s=250)\n",
    "        x1, y1 = x, y\n",
    "        close = True\n",
    "        while close:\n",
    "            x1 += ((-1) ** (random.randint(1, 2))) * 0.7 * rad2 * random.random()\n",
    "            y1 += ((-1) ** (random.randint(1, 2))) * 0.7 * rad2 * random.random()\n",
    "            curr_close = False\n",
    "            for x2, y2 in ant_pts_dict:\n",
    "                if distance(x1, y1, x2, y2) < rad2:\n",
    "                    curr_close = True\n",
    "                    break\n",
    "            close = curr_close\n",
    "        ax.annotate(index_to_word[i], (x, y), (x1, y1), fontsize=25)\n",
    "        ant_pts_dict[(x1, y1)]  = True\n",
    "    plt.show()"
   ]
  },
  {
   "cell_type": "code",
   "execution_count": 130,
   "metadata": {
    "colab": {
     "base_uri": "https://localhost:8080/",
     "height": 863
    },
    "colab_type": "code",
    "executionInfo": {
     "elapsed": 1884,
     "status": "ok",
     "timestamp": 1595944227303,
     "user": {
      "displayName": "Purusharth Verma",
      "photoUrl": "https://lh3.googleusercontent.com/a-/AOh14GghQgHxcJCxFUv-XOcVvu5ENjWyF7NPTcaEk8vPWA=s64",
      "userId": "13336520143308835078"
     },
     "user_tz": -330
    },
    "id": "sUWxRFEi36wE",
    "outputId": "ad33f093-f17c-473b-a546-0fe8c9077554"
   },
   "outputs": [
    {
     "data": {
      "image/png": "[encoded data removed]",
      "text/plain": [
       "<Figure size 2520x2520 with 1 Axes>"
      ]
     },
     "metadata": {
      "needs_background": "light"
     },
     "output_type": "display_data"
    }
   ],
   "source": [
    "plot_words(\n",
    "    [\n",
    "        'king', \n",
    "        'queen', \n",
    "        'man', \n",
    "        'woman', \n",
    "        'five', \n",
    "        'four', \n",
    "        'two', \n",
    "        'three', \n",
    "        'month', \n",
    "        'cat', \n",
    "        'under', \n",
    "        'horse', \n",
    "        'day', \n",
    "        'night', \n",
    "        'below', \n",
    "        'jump', \n",
    "        'run', \n",
    "        'leap', \n",
    "        'year', \n",
    "        'dog', \n",
    "        'hour', \n",
    "        'merry', \n",
    "        'sad', \n",
    "        'melancholy', \n",
    "        'joyous', \n",
    "    ]\n",
    ")"
   ]
  },
  {
   "cell_type": "code",
   "execution_count": null,
   "metadata": {},
   "outputs": [],
   "source": []
  }
 ],
 "metadata": {
  "accelerator": "GPU",
  "colab": {
   "authorship_tag": "ABX9TyN32lKaD+tNWAmyTX9Wuf/h",
   "collapsed_sections": [],
   "mount_file_id": "1UfwHXFCKSSmKFcQKfwEODXQdFX3rTRDz",
   "name": "Embedding.ipynb",
   "provenance": []
  },
  "kernelspec": {
   "display_name": "Python 3",
   "language": "python",
   "name": "python3"
  },
  "language_info": {
   "codemirror_mode": {
    "name": "ipython",
    "version": 3
   },
   "file_extension": ".py",
   "mimetype": "text/x-python",
   "name": "python",
   "nbconvert_exporter": "python",
   "pygments_lexer": "ipython3",
   "version": "3.7.3"
  }
 },
 "nbformat": 4,
 "nbformat_minor": 1
}
