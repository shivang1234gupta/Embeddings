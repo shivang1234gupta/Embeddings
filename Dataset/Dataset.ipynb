{
 "cells": [
  {
   "cell_type": "markdown",
   "metadata": {
    "colab_type": "text",
    "id": "H6xP1K1ykXDg"
   },
   "source": [
    "# **Dataset Preperation**\n",
    "We have raw data in the form of a collection of books. We are going to compile all the data from the books into a single file, and then extract useful sentences from it, and save that to file."
   ]
  },
  {
   "cell_type": "markdown",
   "metadata": {
    "colab_type": "text",
    "id": "AiAJHu8_cDBR"
   },
   "source": [
    "## **Define Notebook Constants**"
   ]
  },
  {
   "cell_type": "code",
   "execution_count": 1,
   "metadata": {
    "colab": {},
    "colab_type": "code",
    "executionInfo": {
     "elapsed": 1974,
     "status": "ok",
     "timestamp": 1595707439730,
     "user": {
      "displayName": "Purusharth Verma",
      "photoUrl": "https://lh3.googleusercontent.com/a-/AOh14GghQgHxcJCxFUv-XOcVvu5ENjWyF7NPTcaEk8vPWA=s64",
      "userId": "13336520143308835078"
     },
     "user_tz": -330
    },
    "id": "7jSnAvUAcL01"
   },
   "outputs": [],
   "source": [
    "base_url = './'"
   ]
  },
  {
   "cell_type": "markdown",
   "metadata": {
    "colab_type": "text",
    "id": "0Al_Xyu8bxJz"
   },
   "source": [
    "## **Merge all books to a single file**"
   ]
  },
  {
   "cell_type": "code",
   "execution_count": 2,
   "metadata": {
    "colab": {},
    "colab_type": "code",
    "executionInfo": {
     "elapsed": 1639,
     "status": "ok",
     "timestamp": 1595707439734,
     "user": {
      "displayName": "Purusharth Verma",
      "photoUrl": "https://lh3.googleusercontent.com/a-/AOh14GghQgHxcJCxFUv-XOcVvu5ENjWyF7NPTcaEk8vPWA=s64",
      "userId": "13336520143308835078"
     },
     "user_tz": -330
    },
    "id": "DjW9uB5nbYTO"
   },
   "outputs": [],
   "source": [
    "from os import listdir\n",
    "from os.path import isfile, join"
   ]
  },
  {
   "cell_type": "code",
   "execution_count": 3,
   "metadata": {
    "colab": {},
    "colab_type": "code",
    "executionInfo": {
     "elapsed": 1437,
     "status": "ok",
     "timestamp": 1595707439736,
     "user": {
      "displayName": "Purusharth Verma",
      "photoUrl": "https://lh3.googleusercontent.com/a-/AOh14GghQgHxcJCxFUv-XOcVvu5ENjWyF7NPTcaEk8vPWA=s64",
      "userId": "13336520143308835078"
     },
     "user_tz": -330
    },
    "id": "qT5Qz7BBceIc"
   },
   "outputs": [],
   "source": [
    "books_path = base_url + 'Books/'"
   ]
  },
  {
   "cell_type": "code",
   "execution_count": 4,
   "metadata": {
    "colab": {
     "base_uri": "https://localhost:8080/",
     "height": 54
    },
    "colab_type": "code",
    "executionInfo": {
     "elapsed": 2418,
     "status": "ok",
     "timestamp": 1595707490190,
     "user": {
      "displayName": "Purusharth Verma",
      "photoUrl": "https://lh3.googleusercontent.com/a-/AOh14GghQgHxcJCxFUv-XOcVvu5ENjWyF7NPTcaEk8vPWA=s64",
      "userId": "13336520143308835078"
     },
     "user_tz": -330
    },
    "id": "MFMPbqujcVxd",
    "outputId": "7e7885e2-8378-414f-e40f-92eb26294851"
   },
   "outputs": [
    {
     "name": "stdout",
     "output_type": "stream",
     "text": [
      "['ThomsonJoseph__UluanAfricanromance.txt', 'JenkinsEdward__LisaLena.txt', 'GrantJames__Loveslabourwonanovel.txt', 'MillsJohn__Toofasttolast.txt', 'BesantWalter__Thetenyearstenantandotherstories.txt', 'WestallWilliam__RedRyvington.txt', 'MooreGeorgeAugustus__AMummersWife.txt', 'ForbesUrquhartAtwell__OtterstoneHall.txt', 'DowlingRichard__TheweirdsistersAromance.txt', 'CresswellHenry__Awilywidow.txt', 'CaineHallSir__AsonofHagararomanceofourtime.txt', 'RobinsonFrederickWilliam__Themanshecaredfor.txt', 'VinceHenryScott__Twopardonsanovel.txt', 'GibbonCharles__ThebraesofYarrowaromance.txt', 'QuillerCouchArthur__TheSplendidSpur.txt', 'GrantJames__DulcieCarlyonanovel.txt', 'CollinsWilkie__Isayno.txt', 'SherardRobertHarborough__Abarteredhonouranovel.txt', 'MurrayDavidChristie__Josephscoat.txt', 'NorrisWilliamEdward__MissShafto.txt']\n"
     ]
    }
   ],
   "source": [
    "files = [f for f in listdir(books_path) if isfile(join(books_path, f))]\n",
    "print(files[0:20])"
   ]
  },
  {
   "cell_type": "code",
   "execution_count": 5,
   "metadata": {
    "colab": {},
    "colab_type": "code",
    "executionInfo": {
     "elapsed": 2056,
     "status": "ok",
     "timestamp": 1595707490194,
     "user": {
      "displayName": "Purusharth Verma",
      "photoUrl": "https://lh3.googleusercontent.com/a-/AOh14GghQgHxcJCxFUv-XOcVvu5ENjWyF7NPTcaEk8vPWA=s64",
      "userId": "13336520143308835078"
     },
     "user_tz": -330
    },
    "id": "j4Sd4J0xc-uV"
   },
   "outputs": [],
   "source": [
    "merged_file_path = base_url + 'merged.txt'"
   ]
  },
  {
   "cell_type": "code",
   "execution_count": 6,
   "metadata": {
    "colab": {
     "base_uri": "https://localhost:8080/",
     "height": 1000
    },
    "colab_type": "code",
    "executionInfo": {
     "elapsed": 7102,
     "status": "ok",
     "timestamp": 1595707495536,
     "user": {
      "displayName": "Purusharth Verma",
      "photoUrl": "https://lh3.googleusercontent.com/a-/AOh14GghQgHxcJCxFUv-XOcVvu5ENjWyF7NPTcaEk8vPWA=s64",
      "userId": "13336520143308835078"
     },
     "user_tz": -330
    },
    "id": "Wo532siJcqv2",
    "outputId": "471a2840-03c0-4d6d-bc95-be4951feb8a4"
   },
   "outputs": [
    {
     "name": "stdout",
     "output_type": "stream",
     "text": [
      "ThomsonJoseph__UluanAfricanromance.txt\n",
      "JenkinsEdward__LisaLena.txt\n",
      "GrantJames__Loveslabourwonanovel.txt\n",
      "MillsJohn__Toofasttolast.txt\n",
      "BesantWalter__Thetenyearstenantandotherstories.txt\n",
      "WestallWilliam__RedRyvington.txt\n",
      "MooreGeorgeAugustus__AMummersWife.txt\n",
      "ForbesUrquhartAtwell__OtterstoneHall.txt\n",
      "DowlingRichard__TheweirdsistersAromance.txt\n",
      "CresswellHenry__Awilywidow.txt\n",
      "CaineHallSir__AsonofHagararomanceofourtime.txt\n",
      "RobinsonFrederickWilliam__Themanshecaredfor.txt\n",
      "VinceHenryScott__Twopardonsanovel.txt\n",
      "GibbonCharles__ThebraesofYarrowaromance.txt\n",
      "QuillerCouchArthur__TheSplendidSpur.txt\n",
      "GrantJames__DulcieCarlyonanovel.txt\n",
      "CollinsWilkie__Isayno.txt\n",
      "SherardRobertHarborough__Abarteredhonouranovel.txt\n",
      "MurrayDavidChristie__Josephscoat.txt\n",
      "NorrisWilliamEdward__MissShafto.txt\n",
      "NorrisWilliamEdward__Nonewthing.txt\n",
      "FarjeonBenjaminLeopold__Inasilversea.txt\n",
      "NorrisWilliamEdward__MyfriendJim.txt\n",
      "HarwoodJohnBerwick__SirRobertShirleybart.txt\n",
      "HunterPeterHay__Myducatsandmydaughter.txt\n",
      "BrookfieldArthurMontagu__TheautobiographyofThomasAllen.txt\n",
      "PaynJames__Aprinceofthebloodanovel.txt\n",
      "GrantJames__ThemasterofAberfeldie.txt\n",
      "ReidThomasWilson__GabrielleStuartorTheflowerofGreenanaScottishromance.txt\n",
      "HuntLeigh__StoriesfromtheItalianpoetswithcriticalnoticesofthelifeandgeniusoftheauthors.txt\n",
      "HudsonFrank__AverymadworldorMyselfandmyneighbourfair.txt\n",
      "CresswellHenry__Fairandfree.txt\n",
      "RussellWilliamClark__TheGoldenHopearomanceofthedeep.txt\n",
      "BesantWalter__ChildrenofGibeon.txt\n",
      "ScottHughStowell__Thephantomfuture.txt\n",
      "LeysJohnKirkwood__TheLindsaysaromanceofScottishlife.txt\n",
      "EsmondHenry__AlifeshazardorTheoutlawofWentworthWaste.txt\n",
      "BoyleFrederick__Agoodhater.txt\n",
      "ShandAlexanderInnes__FortuneswheelAnovel.txt\n",
      "BesantWalter__Thechaplainofthefleetanovel.txt\n",
      "GambierJamesW__Swifterthanaweaversshuttleasketchfromlife.txt\n",
      "MillsJohn__Onthespurofthemoment.txt\n",
      "MurrayDavidChristie__Schwartz.txt\n",
      "SollyHenry__JamesWoodfordcarpenterandChartist.txt\n",
      "LeFanuJosephSheridan__ThePurcellpapers.txt\n",
      "PaynJames__Forcashonlyanovel.txt\n",
      "DAvigdorElimHenry__Glamouranovel.txt\n",
      "GissingGeorge__Theunclassedanovel.txt\n",
      "HalseGeorge__GrahamAspenpainteranovel.txt\n",
      "SturgisJulian__JohnMaidment.txt\n",
      "RussellWilliamClark__ThedeathshipastrangestoryanaccountofacruiseinTheFlyingDutchmancollectedfromthep.txt\n",
      "GrayArnold__Likelostsheepariversidestory.txt\n",
      "BesantWalter__Thecaptainsroometc.txt\n",
      "SmartHawley__Atfault.txt\n",
      "HakeThomasStEThomasStEdmund__Inlettersofgold.txt\n",
      "GregPercy__Ivycousinandbride.txt\n",
      "KingRichardAshe__Lovethedebt.txt\n",
      "ConwayHugh__BoundtogetherTales.txt\n",
      "FarjeonBenjaminLeopold__MiserFarebrotherAnovel.txt\n",
      "GregPercy__Errantalifestoryoflatterdaychivalry.txt\n",
      "BesantWalter__Allinagardenfairthesimplestoryofthreeboysandagirl.txt\n",
      "BaringGouldSabine__JohnHerringawestofEnglandromance.txt\n",
      "DoyleArthurConanSir__MicahClarkeHisStatementasMadetoHisThreeGrandchildrenJosephGervasReubenduringthe.txt\n",
      "GissingGeorge__DemosastoryofEnglishsocialism.txt\n",
      "SollyHenry__LadyStellaandherlover.txt\n",
      "SmartHawley__Hardlinesanovel.txt\n",
      "CombeMartin__ArnoldRoburanovel.txt\n",
      "WestallWilliam__Hertwomillions.txt\n",
      "GriffithsArthur__Thethinredline.txt\n",
      "ColombColonelGeorgeHatton__ForkingandKentatruestoryofthegreatrebellion.txt\n",
      "WhelptonEdwin__MeadowsweetorThewooingofIphisapastoral.txt\n",
      "BlackWilliam__Sunriseastoryofthesetimes.txt\n",
      "GriffithsArthur__AsonofMars.txt\n",
      "MoberlyA__LadyValeriaanovel.txt\n",
      "Hubertopseud__TheghostofDunboyCastle.txt\n",
      "WingfieldLewis__AbigelRoweAchronicleoftheregency.txt\n",
      "CurwenHenry__LadyBluebeard.txt\n",
      "AdamsFrancisWilliamLauderdale__Leicesteranautobiography.txt\n",
      "FarjeonBenjaminLeopold__Asecretinheritance.txt\n",
      "FothergillJohnM__GaythorneHallanovel.txt\n",
      "BaringGouldSabine__CourtRoyalastoryofcrosscurrents.txt\n",
      "SturgisJulian__Dickswandering.txt\n",
      "GrantJames__DervalHamptonastoryofthesea.txt\n",
      "AllenGrant__ThetentsofShem.txt\n",
      "SharpWilliam__Thesportofchance.txt\n",
      "HattonJoseph__AmodernUlyssesBeingthelifelovesadventuresandstrangeexperiencesofHoraceDurand.txt\n",
      "ChristieMurrayDavid__Bythegateoftheseaintwovolumes.txt\n",
      "BaringGouldSabine__Redspider.txt\n",
      "PaynJames__Theheiroftheages.txt\n",
      "RichardsJamesBrinsley__TheDukesmarriage.txt\n",
      "RussellWilliamClark__Jackscourtshipasailorsyarnofloveandshipwreck.txt\n",
      "SmartHawley__SaddleandsabreAnovel.txt\n",
      "GaskellPhilip__Alionamongtheladiesanovel.txt\n",
      "HattonJoseph__Threerecruitsandthegirlstheyleftbehindthemanovel.txt\n",
      "BlackWilliam__InfarLochaber.txt\n",
      "SalterPeterKing__WhitepatchAromanceforquietpeople.txt\n",
      "GrantJames__Colvilleoftheguards.txt\n",
      "BaringGouldSabine__TheGaverocksataleoftheCornishcoast.txt\n",
      "PaynJames__TheCanonsward.txt\n",
      "RichardsonBenjaminWard__Thesonofastararomanceofthesecondcentury.txt\n",
      "SmartHawley__Longoddsanovel.txt\n",
      "BaringGouldSabine__RichardCablethelightshipman.txt\n",
      "RussellWilliamClark__ASailorsSweetheartAnaccountofthewreckofthesailingshipWaldershareetcAnovel.txt\n",
      "SmartHawley__Afalsestartanovel.txt\n",
      "ReidMayne__ThefreelancesaromanceoftheMexicanvalley.txt\n",
      "ClelandRobert__Arichmansrelatives.txt\n",
      "GreyOliver__Avirginwidowanovel.txt\n",
      "FennGeorgeManville__Themanwithashadow.txt\n",
      "SmartHawley__Tieandtrickamelodramaticstory.txt\n",
      "EganPierce__QuintinMatsystheblacksmithofAntwerpanhistoricalromancebyPierceEgantheyounger.txt\n",
      "NorrisWilliamEdward__Matrimony.txt\n",
      "LambertGeorgeNovelist__ThepowerofgoldAnovel.txt\n",
      "SmithJohnFrederick__StanfieldHallanhistoricalromance.txt\n",
      "HardingeWilliamMoney__ThewillowgarthAnovel.txt\n",
      "MurrayDavidChristie__Heartsanovel.txt\n",
      "BurrardWilliamDutton__Agreatplatonicfriendship.txt\n",
      "ScottHughStowell__YoungMistley.txt\n",
      "PeileWOWalterOctavius__WestofSwardhamanovel.txt\n",
      "GrayArnold__Periwinkleanautobiography.txt\n",
      "HattonJoseph__TheoldhouseatSandwichthestoryofaruinedhomeasdevelopedinthestrangerevelationsofHickoryM.txt\n",
      "CollinsWilkie__Jezebelsdaughter.txt\n",
      "MolloyJosephFitzgerald__Itisnowonderastoryofbohemianlife.txt\n",
      "MackayCharles__ThetwinsoulorThestrangeexperiencesofMrRamesesApsychologicalandrealisticromance.txt\n",
      "DowlingRichard__Tempestdrivenaromance.txt\n",
      "CarletonWilliam__LhaDhuOrTheDarkDay.txt\n",
      "FarjeonBenjaminLeopold__ToilersofBabylon.txt\n",
      "CollinsWilkie__Theblackrobe.txt\n",
      "WillsCharlesJames__ThePitTowncoronetafamilymystery.txt\n",
      "DowlingRichard__AnisleofSurreyanovel.txt\n",
      "SimeWilliam__HacothedreamerataleofScotchuniversitylife.txt\n",
      "JamesHenry__ThePortraitofaLady.txt\n",
      "CollinsWilkie__ThelegacyofCain.txt\n",
      "BesantWalter__Theworldwentverywellthen.txt\n",
      "BlackmoreRichardDoddridge__SpringhavenATaleofTheGreatWar.txt\n",
      "ReadeCharles__Aperiloussecret.txt\n",
      "RaeWilliamFraser__Amodernbrigand.txt\n",
      "MallockWilliamHurrellWH__Aromanceofthenineteenthcentury.txt\n",
      "WestburyHugh__FrederickHazzledenanovel.txt\n",
      "FennGeorgeManville__Ofhighdescentanovel.txt\n",
      "NorrisWilliamEdward__AdrianVidal.txt\n",
      "FitzgeraldGeraldBeresford__ClareStronganovel.txt\n",
      "MallockWilliamHurrellWH__Theoldorderchangesanovel.txt\n",
      "WestallWilliam__BirchDene.txt\n",
      "DowneyEdmund__InonetownAnovel.txt\n",
      "ChristieMurrayDavid__Alifesatonementanovel.txt\n",
      "RichardsJamesBrinsley__PrinceRoderick.txt\n",
      "NorrisWilliamEdward__MademoiselledeMersac.txt\n",
      "BarrettFrank__TheadmirableLadyBiddyFanehersurprisingcuriousadventuresinstrangepartshappydeliverancef.txt\n",
      "MurrayDavidChristie__Theweakervessel.txt\n",
      "IsabellJohn__BytheCornishsea.txt\n",
      "OliphantLaurence__AltioraPeto.txt\n",
      "HolmesGeorge__FarmerJohn.txt\n",
      "CollinsWilkie__Heartandscienceastoryofthepresenttime.txt\n",
      "FieldJulianOsgood__LittlehandandmucklegoldAstudyoftoday.txt\n",
      "HowellsWilliamDean__TheRiseofSilasLapham.txt\n",
      "LucyHenryWilliam__GideonFleyceanovel.txt\n",
      "MerivaleHermanCharles__FaucitofBalliolAstoryintwoparts.txt\n",
      "HaggardHRiderHenryRider__ColonelQuaritchVCataleofcountrylife.txt\n",
      "TharpTheodoreA__TheswordofDamocles.txt\n",
      "RussellWilliamClark__Marooned.txt\n",
      "ReidMayne__Noquarter.txt\n",
      "AllisonWilliamBlinkhoolie__BlairAtholanovel.txt\n",
      "CaineHallSir__Thedeemsteraromance.txt\n",
      "DavidsonHughColeman__TheoldAdamataleofanarmycrammer.txt\n",
      "CarletonWilliam__JaneSinclairOrTheFawnOfSpringvale.txt\n",
      "PaynJames__Thetalkofthetown.txt\n",
      "AllenGrant__Inallshadesanovel.txt\n",
      "CunninghamSirHenryStewart__TheCruleansavacationidyll.txt\n",
      "PaynJames__Kitamemory.txt\n",
      "ErrollHenry__Theacademician.txt\n",
      "RussellWilliamClark__Thefrozenpirate.txt\n",
      "JamesHenry__TheBostonians.txt\n",
      "TalbotThomas__TheGranvillesanIrishtale.txt\n",
      "CollinsWilkie__Theevilgeniusadomesticstory.txt\n",
      "BarrettFrank__FollyMorrisonanovel.txt\n",
      "BesantWalter__Allsortsandconditionsofmenanimpossiblestory.txt\n",
      "BurnabyFred__Ourradicalsataleofloveandpolitics.txt\n",
      "GibbonCharles__Ofhighdegreeastory.txt\n",
      "AlexanderGeorgeGardiner__DoctorVictoriaapicturefromtheperiod.txt\n",
      "GriffithsArthur__Thewrongroadbyhookorcrook.txt\n",
      "NorrisWilliamEdward__Abachelorsblunder.txt\n",
      "MacDonaldGeorge__Whatsminesmine.txt\n",
      "FitzgeraldPercyHetherington__PuppetsAromance.txt\n",
      "WingfieldLewis__BarbaraPhilpotastudyofmannersandmoralsto.txt\n"
     ]
    },
    {
     "name": "stdout",
     "output_type": "stream",
     "text": [
      "BaringGouldSabine__ThePennycomequicksanovel.txt\n",
      "HoffmannArthurA__Couldhedobetter.txt\n",
      "CuffeWilliamUlickOConnon__MervynOConnorandothertales.txt\n",
      "CliffeFrancisHenry__Canitbetrue.txt\n",
      "FennGeorgeManville__ElischildrenThechroniclesofanunhappyfamily.txt\n",
      "ColemanJohn__Therivalqueensastoryofthemodernstage.txt\n",
      "BoyleFrederick__ThetreasureofThorburnsanovel.txt\n",
      "SturgisJulian__Comedyofacountryhouse.txt\n",
      "BaillieHamiltonWilliamAlexander__MrMontenelloaromanceofthecivilservice.txt\n",
      "DavidsonHughColeman__ThegreenhillsbytheseaaManxstory.txt\n",
      "PaynJames__Thickerthanwater.txt\n",
      "GibbonCharles__Fancyfreeandotherstories.txt\n",
      "BlackWilliam__YolandeThestoryofadaughter.txt\n",
      "RobinsonFrederickWilliam__Inbadhandsandothertales.txt\n",
      "CarletonWilliam__TheDeadBoxer.txt\n",
      "FennGeorgeManville__Themasteroftheceremoniesanovel.txt\n",
      "BarrettFrank__LieutenantBarnabasanovel.txt\n",
      "FennGeorgeManville__SweetMaceaSussexlegendoftheirontimes.txt\n",
      "RowlattRichard__Entrancedwithadreamanovel.txt\n",
      "McCarthyJustin__TherebelroseAnovel.txt\n",
      "SinnettAlfredPercy__Unitedanovel.txt\n",
      "HillJohn__ThewatersofMarahanovel.txt\n",
      "WiltonMaurice__TheoldloveisthenewAnovel.txt\n",
      "AideCharlesHamilton__Poetandpeer.txt\n",
      "SmartHawley__Fromposttofinishanovel.txt\n",
      "BarrettFrank__Aprodigalsprogress.txt\n",
      "ShorthouseJosephHenry__JohnInglesantaromance.txt\n",
      "GrantAlexanderCharles__BushlifeinQueenslandorJohnWestscolonialexperiences.txt\n",
      "HardingeWilliamMoney__Eugeniaanepisode.txt\n"
     ]
    }
   ],
   "source": [
    "merged_file = open(merged_file_path, 'w')\n",
    "for file_path in files:\n",
    "    if file_path[-3:] == 'txt':\n",
    "        with open(books_path + file_path, 'r') as f:\n",
    "            while True:\n",
    "                line = f.readline()\n",
    "                if line == '':\n",
    "                    break\n",
    "                else:\n",
    "                    merged_file.write(line + \"\\n\")\n",
    "            print(file_path)\n",
    "merged_file.close()"
   ]
  },
  {
   "cell_type": "markdown",
   "metadata": {
    "colab_type": "text",
    "id": "CHP-iD_pj7np"
   },
   "source": [
    "## **Break merged file into individual sentences**"
   ]
  },
  {
   "cell_type": "code",
   "execution_count": 6,
   "metadata": {
    "colab": {},
    "colab_type": "code",
    "executionInfo": {
     "elapsed": 1327,
     "status": "ok",
     "timestamp": 1595707550305,
     "user": {
      "displayName": "Purusharth Verma",
      "photoUrl": "https://lh3.googleusercontent.com/a-/AOh14GghQgHxcJCxFUv-XOcVvu5ENjWyF7NPTcaEk8vPWA=s64",
      "userId": "13336520143308835078"
     },
     "user_tz": -330
    },
    "id": "Y5QZSdedeVuJ"
   },
   "outputs": [],
   "source": [
    "allowed_chars = []\n",
    "allowed_chars.extend([chr(c) for c in range(ord('a'), ord('z') + 1, 1)])\n",
    "allowed_chars.extend([chr(c) for c in range(ord('0'), ord('9') + 1, 1)])\n",
    "allowed_chars.extend([' ', ',', '.'])"
   ]
  },
  {
   "cell_type": "code",
   "execution_count": 7,
   "metadata": {
    "colab": {},
    "colab_type": "code",
    "executionInfo": {
     "elapsed": 1149,
     "status": "ok",
     "timestamp": 1595707598376,
     "user": {
      "displayName": "Purusharth Verma",
      "photoUrl": "https://lh3.googleusercontent.com/a-/AOh14GghQgHxcJCxFUv-XOcVvu5ENjWyF7NPTcaEk8vPWA=s64",
      "userId": "13336520143308835078"
     },
     "user_tz": -330
    },
    "id": "UiMZQbCllORk"
   },
   "outputs": [],
   "source": [
    "merged_file = open(base_url + 'merged.txt', 'r')"
   ]
  },
  {
   "cell_type": "code",
   "execution_count": 8,
   "metadata": {
    "colab": {},
    "colab_type": "code",
    "executionInfo": {
     "elapsed": 84075,
     "status": "ok",
     "timestamp": 1595707693129,
     "user": {
      "displayName": "Purusharth Verma",
      "photoUrl": "https://lh3.googleusercontent.com/a-/AOh14GghQgHxcJCxFUv-XOcVvu5ENjWyF7NPTcaEk8vPWA=s64",
      "userId": "13336520143308835078"
     },
     "user_tz": -330
    },
    "id": "6v7xQ5LolaC7"
   },
   "outputs": [],
   "source": [
    "verbose = ''\n",
    "while True:\n",
    "    line = merged_file.readline().lower()\n",
    "    if len(line) == 0:\n",
    "        break\n",
    "    else:\n",
    "        line_filtered = ''\n",
    "        for c in line:\n",
    "            if c in allowed_chars:\n",
    "                line_filtered += c\n",
    "        verbose += line_filtered + ' '"
   ]
  },
  {
   "cell_type": "code",
   "execution_count": 9,
   "metadata": {
    "colab": {},
    "colab_type": "code",
    "executionInfo": {
     "elapsed": 54433,
     "status": "ok",
     "timestamp": 1595707777181,
     "user": {
      "displayName": "Purusharth Verma",
      "photoUrl": "https://lh3.googleusercontent.com/a-/AOh14GghQgHxcJCxFUv-XOcVvu5ENjWyF7NPTcaEk8vPWA=s64",
      "userId": "13336520143308835078"
     },
     "user_tz": -330
    },
    "id": "OOuosjYplc73"
   },
   "outputs": [],
   "source": [
    "corpus = ''\n",
    "for c in verbose:\n",
    "    if c == ' ':\n",
    "        if corpus[-1:] != ' ':\n",
    "            corpus += c\n",
    "    elif c == ',':\n",
    "        corpus += '.'\n",
    "    elif c == '.':\n",
    "        if not (corpus[-2:] == 'mr' or corpus[-3:] == 'mrs'):\n",
    "            if corpus[-1:] != '.':\n",
    "                corpus += c\n",
    "    else:\n",
    "        corpus+= c"
   ]
  },
  {
   "cell_type": "code",
   "execution_count": 10,
   "metadata": {
    "colab": {
     "base_uri": "https://localhost:8080/",
     "height": 142
    },
    "colab_type": "code",
    "executionInfo": {
     "elapsed": 1431,
     "status": "ok",
     "timestamp": 1595707790780,
     "user": {
      "displayName": "Purusharth Verma",
      "photoUrl": "https://lh3.googleusercontent.com/a-/AOh14GghQgHxcJCxFUv-XOcVvu5ENjWyF7NPTcaEk8vPWA=s64",
      "userId": "13336520143308835078"
     },
     "user_tz": -330
    },
    "id": "TrOUG6xql4r7",
    "outputId": "f117d9eb-8bce-48d7-ee83-1f3abc005f26"
   },
   "outputs": [
    {
     "data": {
      "text/plain": [
       "'by longfellow. one saturday night when cookie was washing me. you see. that particular night i was rather funny having been out on the heath alone. of course i should have been punished. perhaps licked. if id been caught. we were never allowed vol. i. 2 out except we got leave. in twos. and thinking about all sorts of things. and particularly that i should die before i was twenty. so. as cookie was washing me. i asked her if she knew what. for the soul is dead that slutiihers and. things are not what they seem. meant she didnt. then i asked her about the other things in it. one by one but she didnt seem to understand them much either. well after id gone up to the dormitory i was first that night. while the others were up at prayers. she came in quite quietly as i was lying thinking and looking at the white ceiling. and sat down on the bed by me and took out a little round hot pasty. and said i was to eat it while she was cutting my nails. so she drew back the curtain. and i got out of '"
      ]
     },
     "execution_count": 10,
     "metadata": {},
     "output_type": "execute_result"
    }
   ],
   "source": [
    "corpus[15000:16000]"
   ]
  },
  {
   "cell_type": "code",
   "execution_count": 11,
   "metadata": {
    "colab": {
     "base_uri": "https://localhost:8080/",
     "height": 364
    },
    "colab_type": "code",
    "executionInfo": {
     "elapsed": 2143,
     "status": "ok",
     "timestamp": 1595707848639,
     "user": {
      "displayName": "Purusharth Verma",
      "photoUrl": "https://lh3.googleusercontent.com/a-/AOh14GghQgHxcJCxFUv-XOcVvu5ENjWyF7NPTcaEk8vPWA=s64",
      "userId": "13336520143308835078"
     },
     "user_tz": -330
    },
    "id": "_Y8vrcthmI7R",
    "outputId": "1715c0b4-528f-44c4-e37b-365e8e3c8686"
   },
   "outputs": [
    {
     "data": {
      "text/plain": [
       "[' look out into the twilight sky',\n",
       " ' in which are vaguely the tall dark wild rooktrees with their black broad tops',\n",
       " ' the many gravestones',\n",
       " ' and the small church to the right all vague',\n",
       " ' semiexistent to me',\n",
       " ' then bertie i the word',\n",
       " ' rising a note',\n",
       " ' startles me',\n",
       " ' half thrills me',\n",
       " ' anne is at the foot of the ladder',\n",
       " ' up she steps shoves the door open altogether and at once begins lor',\n",
       " ' master bertie',\n",
       " ' why you look as if youd bin seen a ghost out in the graveyard',\n",
       " ' you do',\n",
       " ' gracious alive',\n",
       " ' the eyes of him did you ever now master bertie dont be a fool',\n",
       " ' what do you want i ask',\n",
       " ' if you want me for tea',\n",
       " ' im not coming',\n",
       " ' tell mother purchis so']"
      ]
     },
     "execution_count": 11,
     "metadata": {},
     "output_type": "execute_result"
    }
   ],
   "source": [
    "sentences = corpus.split('.')\n",
    "sentences[100:120]"
   ]
  },
  {
   "cell_type": "code",
   "execution_count": 12,
   "metadata": {
    "colab": {
     "base_uri": "https://localhost:8080/",
     "height": 34
    },
    "colab_type": "code",
    "executionInfo": {
     "elapsed": 1517,
     "status": "ok",
     "timestamp": 1595707868698,
     "user": {
      "displayName": "Purusharth Verma",
      "photoUrl": "https://lh3.googleusercontent.com/a-/AOh14GghQgHxcJCxFUv-XOcVvu5ENjWyF7NPTcaEk8vPWA=s64",
      "userId": "13336520143308835078"
     },
     "user_tz": -330
    },
    "id": "SjCJfmqgmN47",
    "outputId": "cb446333-6073-4221-c343-dd8d4d51ec0f"
   },
   "outputs": [
    {
     "data": {
      "text/plain": [
       "3999997"
      ]
     },
     "execution_count": 12,
     "metadata": {},
     "output_type": "execute_result"
    }
   ],
   "source": [
    "len(sentences)"
   ]
  },
  {
   "cell_type": "code",
   "execution_count": 13,
   "metadata": {
    "colab": {},
    "colab_type": "code",
    "executionInfo": {
     "elapsed": 1175,
     "status": "ok",
     "timestamp": 1595707906894,
     "user": {
      "displayName": "Purusharth Verma",
      "photoUrl": "https://lh3.googleusercontent.com/a-/AOh14GghQgHxcJCxFUv-XOcVvu5ENjWyF7NPTcaEk8vPWA=s64",
      "userId": "13336520143308835078"
     },
     "user_tz": -330
    },
    "id": "n1n9xRvDmb84"
   },
   "outputs": [],
   "source": [
    "sentences_file_path = base_url + 'sentences.txt'"
   ]
  },
  {
   "cell_type": "code",
   "execution_count": 14,
   "metadata": {
    "colab": {},
    "colab_type": "code",
    "executionInfo": {
     "elapsed": 6153,
     "status": "ok",
     "timestamp": 1595707937158,
     "user": {
      "displayName": "Purusharth Verma",
      "photoUrl": "https://lh3.googleusercontent.com/a-/AOh14GghQgHxcJCxFUv-XOcVvu5ENjWyF7NPTcaEk8vPWA=s64",
      "userId": "13336520143308835078"
     },
     "user_tz": -330
    },
    "id": "w6YM-PIumlXo"
   },
   "outputs": [],
   "source": [
    "sentences_file = open(sentences_file_path, 'w')\n",
    "for sentence in sentences:\n",
    "    sentences_file.write(sentence + '\\n')\n",
    "sentences_file.close()"
   ]
  }
 ],
 "metadata": {
  "colab": {
   "authorship_tag": "ABX9TyM5lQhlOFfwtMvLVv9jij+f",
   "mount_file_id": "1R9RsNIsFZHhrIgIeB706FOqDI143ASin",
   "name": "Dataset.ipynb",
   "provenance": []
  },
  "kernelspec": {
   "display_name": "Python 3",
   "language": "python",
   "name": "python3"
  },
  "language_info": {
   "codemirror_mode": {
    "name": "ipython",
    "version": 3
   },
   "file_extension": ".py",
   "mimetype": "text/x-python",
   "name": "python",
   "nbconvert_exporter": "python",
   "pygments_lexer": "ipython3",
   "version": "3.7.3"
  }
 },
 "nbformat": 4,
 "nbformat_minor": 1
}
