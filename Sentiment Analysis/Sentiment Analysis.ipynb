{
 "cells": [
  {
   "cell_type": "markdown",
   "metadata": {
    "colab_type": "text",
    "id": "1f-OJ0pyl-9W"
   },
   "source": [
    "# **Sentiment Analysis**\n",
    "In this notebook, we will use the embeddings we trained earlier to solve the task of sentiment analysis upon the IMDB reviews dataset. "
   ]
  },
  {
   "cell_type": "markdown",
   "metadata": {
    "colab_type": "text",
    "id": "VOq8khEMmZoR"
   },
   "source": [
    "## **Define notebook constants**"
   ]
  },
  {
   "cell_type": "code",
   "execution_count": 1,
   "metadata": {
    "colab": {},
    "colab_type": "code",
    "executionInfo": {
     "elapsed": 13076,
     "status": "ok",
     "timestamp": 1595883458197,
     "user": {
      "displayName": "Purusharth Verma",
      "photoUrl": "https://lh3.googleusercontent.com/a-/AOh14GghQgHxcJCxFUv-XOcVvu5ENjWyF7NPTcaEk8vPWA=s64",
      "userId": "13336520143308835078"
     },
     "user_tz": -330
    },
    "id": "l12_bG8Qj0dZ"
   },
   "outputs": [],
   "source": [
    "base_url = '../'\n",
    "dictionary_size = 25000\n",
    "review_max_len = 300\n",
    "embedding_dim = 64"
   ]
  },
  {
   "cell_type": "markdown",
   "metadata": {
    "colab_type": "text",
    "id": "vsBBeFIUmysQ"
   },
   "source": [
    "## **Import essential libraries**"
   ]
  },
  {
   "cell_type": "code",
   "execution_count": 2,
   "metadata": {
    "colab": {},
    "colab_type": "code",
    "executionInfo": {
     "elapsed": 13070,
     "status": "ok",
     "timestamp": 1595883458203,
     "user": {
      "displayName": "Purusharth Verma",
      "photoUrl": "https://lh3.googleusercontent.com/a-/AOh14GghQgHxcJCxFUv-XOcVvu5ENjWyF7NPTcaEk8vPWA=s64",
      "userId": "13336520143308835078"
     },
     "user_tz": -330
    },
    "id": "rSOSzYkhmxiM"
   },
   "outputs": [],
   "source": [
    "import joblib\n",
    "import numpy as np\n",
    "import pandas as pd\n",
    "import tensorflow as tf\n",
    "import matplotlib.pyplot as plt\n",
    "from sklearn.model_selection import train_test_split\n",
    "from sklearn.metrics import precision_recall_fscore_support\n",
    "\n",
    "%matplotlib inline\n",
    "plt.rcParams['figure.figsize'] = [10, 10]"
   ]
  },
  {
   "cell_type": "markdown",
   "metadata": {
    "colab_type": "text",
    "id": "AzxPX7y6oQAw"
   },
   "source": [
    "## **Load trained embeddings**"
   ]
  },
  {
   "cell_type": "code",
   "execution_count": 3,
   "metadata": {
    "colab": {},
    "colab_type": "code",
    "executionInfo": {
     "elapsed": 13940,
     "status": "ok",
     "timestamp": 1595883459089,
     "user": {
      "displayName": "Purusharth Verma",
      "photoUrl": "https://lh3.googleusercontent.com/a-/AOh14GghQgHxcJCxFUv-XOcVvu5ENjWyF7NPTcaEk8vPWA=s64",
      "userId": "13336520143308835078"
     },
     "user_tz": -330
    },
    "id": "v27mR0g4ndgl"
   },
   "outputs": [],
   "source": [
    "embedding_mat = joblib.load(base_url + 'Embedding/embeddings.pkl')\n",
    "word_to_index = joblib.load(base_url + 'Embedding/word_to_index_map.pkl')\n",
    "index_to_word = joblib.load(base_url + 'Embedding/index_to_word_map.pkl')"
   ]
  },
  {
   "cell_type": "code",
   "execution_count": 4,
   "metadata": {
    "colab": {},
    "colab_type": "code",
    "executionInfo": {
     "elapsed": 13934,
     "status": "ok",
     "timestamp": 1595883459093,
     "user": {
      "displayName": "Purusharth Verma",
      "photoUrl": "https://lh3.googleusercontent.com/a-/AOh14GghQgHxcJCxFUv-XOcVvu5ENjWyF7NPTcaEk8vPWA=s64",
      "userId": "13336520143308835078"
     },
     "user_tz": -330
    },
    "id": "4f4HaK3wo66k"
   },
   "outputs": [],
   "source": [
    "# End of sentence token\n",
    "embedding_mat = np.vstack((embedding_mat, 0 * np.ones((1, embedding_dim))))\n",
    "# Unknown word token\n",
    "embedding_mat = np.vstack((embedding_mat, 1 * np.ones((1, embedding_dim))))\n",
    "# Null word token\n",
    "embedding_mat = np.vstack((embedding_mat, -1 * np.ones((1, embedding_dim))))"
   ]
  },
  {
   "cell_type": "markdown",
   "metadata": {
    "colab_type": "text",
    "id": "Cv_cdlLYp4aF"
   },
   "source": [
    "## **Load dataset**"
   ]
  },
  {
   "cell_type": "code",
   "execution_count": 5,
   "metadata": {
    "colab": {
     "base_uri": "https://localhost:8080/",
     "height": 173
    },
    "colab_type": "code",
    "executionInfo": {
     "elapsed": 13928,
     "status": "ok",
     "timestamp": 1595883459096,
     "user": {
      "displayName": "Purusharth Verma",
      "photoUrl": "https://lh3.googleusercontent.com/a-/AOh14GghQgHxcJCxFUv-XOcVvu5ENjWyF7NPTcaEk8vPWA=s64",
      "userId": "13336520143308835078"
     },
     "user_tz": -330
    },
    "id": "DsmnMv5epqNa",
    "outputId": "27142dcf-5aad-45de-f5c1-7728328c8372"
   },
   "outputs": [
    {
     "name": "stdout",
     "output_type": "stream",
     "text": [
      "<class 'pandas.core.frame.DataFrame'>\n",
      "RangeIndex: 50000 entries, 0 to 49999\n",
      "Data columns (total 2 columns):\n",
      "review       50000 non-null object\n",
      "sentiment    50000 non-null object\n",
      "dtypes: object(2)\n",
      "memory usage: 781.3+ KB\n"
     ]
    }
   ],
   "source": [
    "df = pd.read_csv(base_url + 'Sentiment Analysis/IMDB Dataset.csv')\n",
    "df.info()"
   ]
  },
  {
   "cell_type": "code",
   "execution_count": 6,
   "metadata": {
    "colab": {
     "base_uri": "https://localhost:8080/",
     "height": 363
    },
    "colab_type": "code",
    "executionInfo": {
     "elapsed": 13917,
     "status": "ok",
     "timestamp": 1595883459099,
     "user": {
      "displayName": "Purusharth Verma",
      "photoUrl": "https://lh3.googleusercontent.com/a-/AOh14GghQgHxcJCxFUv-XOcVvu5ENjWyF7NPTcaEk8vPWA=s64",
      "userId": "13336520143308835078"
     },
     "user_tz": -330
    },
    "id": "AQ0bgBPRqJ4N",
    "outputId": "fe805a74-e2d3-40a8-aeef-913e01a4015e"
   },
   "outputs": [
    {
     "data": {
      "text/html": [
       "<div>\n",
       "<style scoped>\n",
       "    .dataframe tbody tr th:only-of-type {\n",
       "        vertical-align: middle;\n",
       "    }\n",
       "\n",
       "    .dataframe tbody tr th {\n",
       "        vertical-align: top;\n",
       "    }\n",
       "\n",
       "    .dataframe thead th {\n",
       "        text-align: right;\n",
       "    }\n",
       "</style>\n",
       "<table border=\"1\" class=\"dataframe\">\n",
       "  <thead>\n",
       "    <tr style=\"text-align: right;\">\n",
       "      <th></th>\n",
       "      <th>review</th>\n",
       "      <th>sentiment</th>\n",
       "    </tr>\n",
       "  </thead>\n",
       "  <tbody>\n",
       "    <tr>\n",
       "      <th>0</th>\n",
       "      <td>One of the other reviewers has mentioned that ...</td>\n",
       "      <td>positive</td>\n",
       "    </tr>\n",
       "    <tr>\n",
       "      <th>1</th>\n",
       "      <td>A wonderful little production. &lt;br /&gt;&lt;br /&gt;The...</td>\n",
       "      <td>positive</td>\n",
       "    </tr>\n",
       "    <tr>\n",
       "      <th>2</th>\n",
       "      <td>I thought this was a wonderful way to spend ti...</td>\n",
       "      <td>positive</td>\n",
       "    </tr>\n",
       "    <tr>\n",
       "      <th>3</th>\n",
       "      <td>Basically there's a family where a little boy ...</td>\n",
       "      <td>negative</td>\n",
       "    </tr>\n",
       "    <tr>\n",
       "      <th>4</th>\n",
       "      <td>Petter Mattei's \"Love in the Time of Money\" is...</td>\n",
       "      <td>positive</td>\n",
       "    </tr>\n",
       "    <tr>\n",
       "      <th>5</th>\n",
       "      <td>Probably my all-time favorite movie, a story o...</td>\n",
       "      <td>positive</td>\n",
       "    </tr>\n",
       "    <tr>\n",
       "      <th>6</th>\n",
       "      <td>I sure would like to see a resurrection of a u...</td>\n",
       "      <td>positive</td>\n",
       "    </tr>\n",
       "    <tr>\n",
       "      <th>7</th>\n",
       "      <td>This show was an amazing, fresh &amp; innovative i...</td>\n",
       "      <td>negative</td>\n",
       "    </tr>\n",
       "    <tr>\n",
       "      <th>8</th>\n",
       "      <td>Encouraged by the positive comments about this...</td>\n",
       "      <td>negative</td>\n",
       "    </tr>\n",
       "    <tr>\n",
       "      <th>9</th>\n",
       "      <td>If you like original gut wrenching laughter yo...</td>\n",
       "      <td>positive</td>\n",
       "    </tr>\n",
       "  </tbody>\n",
       "</table>\n",
       "</div>"
      ],
      "text/plain": [
       "                                              review sentiment\n",
       "0  One of the other reviewers has mentioned that ...  positive\n",
       "1  A wonderful little production. <br /><br />The...  positive\n",
       "2  I thought this was a wonderful way to spend ti...  positive\n",
       "3  Basically there's a family where a little boy ...  negative\n",
       "4  Petter Mattei's \"Love in the Time of Money\" is...  positive\n",
       "5  Probably my all-time favorite movie, a story o...  positive\n",
       "6  I sure would like to see a resurrection of a u...  positive\n",
       "7  This show was an amazing, fresh & innovative i...  negative\n",
       "8  Encouraged by the positive comments about this...  negative\n",
       "9  If you like original gut wrenching laughter yo...  positive"
      ]
     },
     "execution_count": 6,
     "metadata": {},
     "output_type": "execute_result"
    }
   ],
   "source": [
    "df.head(10)"
   ]
  },
  {
   "cell_type": "code",
   "execution_count": 7,
   "metadata": {
    "colab": {
     "base_uri": "https://localhost:8080/",
     "height": 144
    },
    "colab_type": "code",
    "executionInfo": {
     "elapsed": 13905,
     "status": "ok",
     "timestamp": 1595883459102,
     "user": {
      "displayName": "Purusharth Verma",
      "photoUrl": "https://lh3.googleusercontent.com/a-/AOh14GghQgHxcJCxFUv-XOcVvu5ENjWyF7NPTcaEk8vPWA=s64",
      "userId": "13336520143308835078"
     },
     "user_tz": -330
    },
    "id": "5gE9XmpDqMdB",
    "outputId": "1997dc60-5046-48ec-f1e6-121bcfe414fd"
   },
   "outputs": [
    {
     "data": {
      "text/plain": [
       "'Return to the 36th Chamber is one of those classic Kung-Fu movies which Shaw produces back in the 70s and 80s, whose genre is equivalent to the spaghetti westerns of Hollywood, and the protagonist Gordon Liu, the counterpart to the western\\'s Clint Eastwood. Digitally remastered and a new print made for the Fantastic Film Fest, this is \"Presented in Shaw Scope\", just like the good old days.<br /><br />This film is a simple story of good versus evil, told in 3 acts, which more or less sums up the narrative of martial arts films in that era.<br /><br />Act One sets up the premise. Workers in a dye-mill of a small village are unhappy with their lot, having their wages cut by 20% by incoming manchu gangsters. They can\\'t do much about their exploitation because none of them are martial arts skilled to take on the gangsters, and their boss. At first they had a minor success in getting Liu to impersonate a highly skilled Shaolin monk (one of the best comedy sequences), but their rouse got exposed when they pushed the limit of credibility by impersonating one too many times.<br /><br />Act Two shows the protagonist wanting to get back at the mob. However, without real martial arts, he embarks on a journey to Shaolin Temple, to try and infiltrate and learn martial arts on the sly. After some slapstick moments, he finally gets accepted by the abbot (whom he impersonated!) but is disappointed at the teaching methods - kinda like Mr Miyagi\\'s style in Karate Kid, but instead of painting fences, he gets to erect scaffoldings all around the temple. Nothing can keep a good man down, and he unwittingly builds strength, endurance and learns kung-fu the unorthodox way.<br /><br />Act Three is where the fight fest begins. With cheesy sound effects, each obvious non-contact on film is given the maximum impact treatment. But it is rather refreshing watching the fight scenes here, with its wide angled shots to highlight clarity and detail between the sparring partners, and the use of slow-motion only to showcase stunts in different angles. You may find the speed of fights a tad too slow, with some pause in between moves, but with Yuen Wo Ping and his style being used ad-nausem in Hollywood flicks, they sure don\\'t make fight scenes like they used to! Return to the 36th chamber gets a repeat screening on Monday, so, if you\\'re game for a nostalgic trip down memory lane, what are you waiting for?'"
      ]
     },
     "execution_count": 7,
     "metadata": {},
     "output_type": "execute_result"
    }
   ],
   "source": [
    "df.iloc[50, 0]"
   ]
  },
  {
   "cell_type": "markdown",
   "metadata": {
    "colab_type": "text",
    "id": "sXXzgmasqrCr"
   },
   "source": [
    "## **Clean dataset reviews**"
   ]
  },
  {
   "cell_type": "code",
   "execution_count": 8,
   "metadata": {
    "colab": {},
    "colab_type": "code",
    "executionInfo": {
     "elapsed": 13893,
     "status": "ok",
     "timestamp": 1595883459104,
     "user": {
      "displayName": "Purusharth Verma",
      "photoUrl": "https://lh3.googleusercontent.com/a-/AOh14GghQgHxcJCxFUv-XOcVvu5ENjWyF7NPTcaEk8vPWA=s64",
      "userId": "13336520143308835078"
     },
     "user_tz": -330
    },
    "id": "e1Osw46Kq9t6"
   },
   "outputs": [],
   "source": [
    "allowed_chars = []\n",
    "allowed_chars.extend([chr(c) for c in range(ord('a'), ord('z') + 1, 1)])\n",
    "allowed_chars.extend([chr(c) for c in range(ord('0'), ord('9') + 1, 1)])\n",
    "allowed_chars.extend([' ', '.'])"
   ]
  },
  {
   "cell_type": "code",
   "execution_count": 9,
   "metadata": {
    "colab": {},
    "colab_type": "code",
    "executionInfo": {
     "elapsed": 13886,
     "status": "ok",
     "timestamp": 1595883459106,
     "user": {
      "displayName": "Purusharth Verma",
      "photoUrl": "https://lh3.googleusercontent.com/a-/AOh14GghQgHxcJCxFUv-XOcVvu5ENjWyF7NPTcaEk8vPWA=s64",
      "userId": "13336520143308835078"
     },
     "user_tz": -330
    },
    "id": "r4d7ktlIqjld"
   },
   "outputs": [],
   "source": [
    "def clean_review(review):\n",
    "    verbose = ''\n",
    "    review = review.lower()\n",
    "    for c in review:\n",
    "        if c in allowed_chars:\n",
    "            verbose += c\n",
    "        else:\n",
    "            verbose += ' '\n",
    "    cleaned = ''\n",
    "    for c in verbose:\n",
    "        if c == ' ':\n",
    "            if cleaned[-1:] != ' ':\n",
    "                cleaned += c\n",
    "        elif c == '.':\n",
    "            if cleaned[-1:] != '.':\n",
    "                cleaned += ' ' + c\n",
    "        else:\n",
    "            cleaned+= c\n",
    "    return cleaned.replace(' br ', '')"
   ]
  },
  {
   "cell_type": "code",
   "execution_count": 10,
   "metadata": {
    "colab": {},
    "colab_type": "code",
    "executionInfo": {
     "elapsed": 29528,
     "status": "ok",
     "timestamp": 1595883474756,
     "user": {
      "displayName": "Purusharth Verma",
      "photoUrl": "https://lh3.googleusercontent.com/a-/AOh14GghQgHxcJCxFUv-XOcVvu5ENjWyF7NPTcaEk8vPWA=s64",
      "userId": "13336520143308835078"
     },
     "user_tz": -330
    },
    "id": "tfAt_I7Vq-lE"
   },
   "outputs": [],
   "source": [
    "df[\"review\"] = df[\"review\"].apply(clean_review)"
   ]
  },
  {
   "cell_type": "code",
   "execution_count": 11,
   "metadata": {
    "colab": {
     "base_uri": "https://localhost:8080/",
     "height": 144
    },
    "colab_type": "code",
    "executionInfo": {
     "elapsed": 29529,
     "status": "ok",
     "timestamp": 1595883474767,
     "user": {
      "displayName": "Purusharth Verma",
      "photoUrl": "https://lh3.googleusercontent.com/a-/AOh14GghQgHxcJCxFUv-XOcVvu5ENjWyF7NPTcaEk8vPWA=s64",
      "userId": "13336520143308835078"
     },
     "user_tz": -330
    },
    "id": "NIGZdEi4rCo_",
    "outputId": "2cd50026-17b7-4511-80b7-ea15737faa15"
   },
   "outputs": [
    {
     "data": {
      "text/plain": [
       "'return to the 36th chamber is one of those classic kung fu movies which shaw produces back in the 70s and 80s whose genre is equivalent to the spaghetti westerns of hollywood and the protagonist gordon liu the counterpart to the western s clint eastwood . digitally remastered and a new print made for the fantastic film fest this is presented in shaw scope just like the good old days .br this film is a simple story of good versus evil told in 3 acts which more or less sums up the narrative of martial arts films in that era .br act one sets up the premise . workers in a dye mill of a small village are unhappy with their lot having their wages cut by 20 by incoming manchu gangsters . they can t do much about their exploitation because none of them are martial arts skilled to take on the gangsters and their boss . at first they had a minor success in getting liu to impersonate a highly skilled shaolin monk one of the best comedy sequences but their rouse got exposed when they pushed the limit of credibility by impersonating one too many times .br act two shows the protagonist wanting to get back at the mob . however without real martial arts he embarks on a journey to shaolin temple to try and infiltrate and learn martial arts on the sly . after some slapstick moments he finally gets accepted by the abbot whom he impersonated but is disappointed at the teaching methods kinda like mr miyagi s style in karate kid but instead of painting fences he gets to erect scaffoldings all around the temple . nothing can keep a good man down and he unwittingly builds strength endurance and learns kung fu the unorthodox way .br act three is where the fight fest begins . with cheesy sound effects each obvious non contact on film is given the maximum impact treatment . but it is rather refreshing watching the fight scenes here with its wide angled shots to highlight clarity and detail between the sparring partners and the use of slow motion only to showcase stunts in different angles . you may find the speed of fights a tad too slow with some pause in between moves but with yuen wo ping and his style being used ad nausem in hollywood flicks they sure don t make fight scenes like they used to return to the 36th chamber gets a repeat screening on monday so if you re game for a nostalgic trip down memory lane what are you waiting for '"
      ]
     },
     "execution_count": 11,
     "metadata": {},
     "output_type": "execute_result"
    }
   ],
   "source": [
    "df.iloc[50, 0]"
   ]
  },
  {
   "cell_type": "markdown",
   "metadata": {
    "colab_type": "text",
    "id": "TQUF4cWwr1sC"
   },
   "source": [
    "## **Exploratory Data Analysis: Observing the trends in the lengths of different reviews**"
   ]
  },
  {
   "cell_type": "code",
   "execution_count": 12,
   "metadata": {
    "colab": {},
    "colab_type": "code",
    "executionInfo": {
     "elapsed": 32911,
     "status": "ok",
     "timestamp": 1595883478163,
     "user": {
      "displayName": "Purusharth Verma",
      "photoUrl": "https://lh3.googleusercontent.com/a-/AOh14GghQgHxcJCxFUv-XOcVvu5ENjWyF7NPTcaEk8vPWA=s64",
      "userId": "13336520143308835078"
     },
     "user_tz": -330
    },
    "id": "1st0DbaQrEdF"
   },
   "outputs": [],
   "source": [
    "lengths = []\n",
    "for i in range(df.shape[0]):\n",
    "    words = list(filter(lambda x: len(x) > 0, map(str.strip, df.iloc[i, 0].split(' '))))\n",
    "    lengths.append(len(words))"
   ]
  },
  {
   "cell_type": "code",
   "execution_count": 13,
   "metadata": {
    "colab": {
     "base_uri": "https://localhost:8080/",
     "height": 34
    },
    "colab_type": "code",
    "executionInfo": {
     "elapsed": 32918,
     "status": "ok",
     "timestamp": 1595883478177,
     "user": {
      "displayName": "Purusharth Verma",
      "photoUrl": "https://lh3.googleusercontent.com/a-/AOh14GghQgHxcJCxFUv-XOcVvu5ENjWyF7NPTcaEk8vPWA=s64",
      "userId": "13336520143308835078"
     },
     "user_tz": -330
    },
    "id": "JSg0LKupsW4J",
    "outputId": "ea44ec41-b37f-4273-b15c-43f43e4a79d2"
   },
   "outputs": [
    {
     "name": "stdout",
     "output_type": "stream",
     "text": [
      "2624\n"
     ]
    }
   ],
   "source": [
    "max_len = max(lengths)\n",
    "print(max_len)"
   ]
  },
  {
   "cell_type": "code",
   "execution_count": 14,
   "metadata": {
    "colab": {
     "base_uri": "https://localhost:8080/",
     "height": 637
    },
    "colab_type": "code",
    "executionInfo": {
     "elapsed": 32908,
     "status": "ok",
     "timestamp": 1595883478182,
     "user": {
      "displayName": "Purusharth Verma",
      "photoUrl": "https://lh3.googleusercontent.com/a-/AOh14GghQgHxcJCxFUv-XOcVvu5ENjWyF7NPTcaEk8vPWA=s64",
      "userId": "13336520143308835078"
     },
     "user_tz": -330
    },
    "id": "S3vObPl0sSYY",
    "outputId": "d644d939-1d28-47c5-e382-fa96b0846a0a"
   },
   "outputs": [
    {
     "data": {
      "image/png": "[encoded data removed]",
      "text/plain": [
       "<Figure size 720x720 with 1 Axes>"
      ]
     },
     "metadata": {
      "needs_background": "light"
     },
     "output_type": "display_data"
    }
   ],
   "source": [
    "bins = [i for i in range(0, max_len, 200)]\n",
    "plt.hist(lengths, bins, rwidth=0.7)\n",
    "plt.xlabel('Review Lengths')\n",
    "plt.ylabel('Review Frequencies')\n",
    "plt.title('Review Frequencies vs Lengths\\n')\n",
    "plt.show()"
   ]
  },
  {
   "cell_type": "code",
   "execution_count": 15,
   "metadata": {
    "colab": {
     "base_uri": "https://localhost:8080/",
     "height": 637
    },
    "colab_type": "code",
    "executionInfo": {
     "elapsed": 32899,
     "status": "ok",
     "timestamp": 1595883478187,
     "user": {
      "displayName": "Purusharth Verma",
      "photoUrl": "https://lh3.googleusercontent.com/a-/AOh14GghQgHxcJCxFUv-XOcVvu5ENjWyF7NPTcaEk8vPWA=s64",
      "userId": "13336520143308835078"
     },
     "user_tz": -330
    },
    "id": "KwxSdXXvshkr",
    "outputId": "416bd6f4-6044-4db1-b815-3e57681752e5"
   },
   "outputs": [
    {
     "data": {
      "image/png": "[encoded data removed]",
      "text/plain": [
       "<Figure size 720x720 with 1 Axes>"
      ]
     },
     "metadata": {
      "needs_background": "light"
     },
     "output_type": "display_data"
    }
   ],
   "source": [
    "plt.hist(lengths, bins, rwidth=0.7, cumulative=True)\n",
    "plt.xlabel('Review Lengths')\n",
    "plt.ylabel('Review Frequencies (Cumulative)')\n",
    "plt.title('Review Frequencies vs Lengths (Cumulative)\\n')\n",
    "plt.show()"
   ]
  },
  {
   "cell_type": "markdown",
   "metadata": {
    "colab_type": "text",
    "id": "x7fab0cduDt6"
   },
   "source": [
    "## **Convert reviews to index sequences**"
   ]
  },
  {
   "cell_type": "code",
   "execution_count": 150,
   "metadata": {
    "colab": {},
    "colab_type": "code",
    "executionInfo": {
     "elapsed": 32888,
     "status": "ok",
     "timestamp": 1595883478190,
     "user": {
      "displayName": "Purusharth Verma",
      "photoUrl": "https://lh3.googleusercontent.com/a-/AOh14GghQgHxcJCxFUv-XOcVvu5ENjWyF7NPTcaEk8vPWA=s64",
      "userId": "13336520143308835078"
     },
     "user_tz": -330
    },
    "id": "Fy_o64f3teiq"
   },
   "outputs": [],
   "source": [
    "def convert_to_ind_seq(words):\n",
    "    unknown_count, word_count = 0, 0\n",
    "    indices = [dictionary_size + 2 for i in range(review_max_len)]\n",
    "    i = 0 if (len(words) <= review_max_len) else (len(words) - review_max_len)\n",
    "    j = 0 if (len(words) >= review_max_len) else (review_max_len - len(words))\n",
    "    while i < len(words):\n",
    "        word = words[i]\n",
    "        if word in word_to_index:\n",
    "            indices[j] = word_to_index[word]\n",
    "        else:\n",
    "            if word[0] == '.':\n",
    "                indices[j] = dictionary_size\n",
    "            else:\n",
    "                indices[j] = dictionary_size + 1\n",
    "                unknown_count += 1\n",
    "        i += 1\n",
    "        j += 1\n",
    "        word_count += 1\n",
    "    return indices, unknown_count, word_count"
   ]
  },
  {
   "cell_type": "code",
   "execution_count": 151,
   "metadata": {
    "colab": {},
    "colab_type": "code",
    "executionInfo": {
     "elapsed": 40754,
     "status": "ok",
     "timestamp": 1595883486063,
     "user": {
      "displayName": "Purusharth Verma",
      "photoUrl": "https://lh3.googleusercontent.com/a-/AOh14GghQgHxcJCxFUv-XOcVvu5ENjWyF7NPTcaEk8vPWA=s64",
      "userId": "13336520143308835078"
     },
     "user_tz": -330
    },
    "id": "6-y0lPdrubmp"
   },
   "outputs": [],
   "source": [
    "X, Y = [], []\n",
    "unknown_count, word_count = 0, 0\n",
    "for i in range(df.shape[0]):\n",
    "    Y.append((0 if df.iloc[i, 1] == 'negative' else 1, ))\n",
    "    words = list(filter(lambda x: len(x) > 0, map(str.strip, df.iloc[i, 0].split(' '))))\n",
    "    indices, unk_w, tot_w = convert_to_ind_seq(words)\n",
    "    unknown_count += unk_w\n",
    "    word_count += tot_w\n",
    "    X.append(indices)"
   ]
  },
  {
   "cell_type": "code",
   "execution_count": 152,
   "metadata": {
    "colab": {},
    "colab_type": "code",
    "executionInfo": {
     "elapsed": 41671,
     "status": "ok",
     "timestamp": 1595883486988,
     "user": {
      "displayName": "Purusharth Verma",
      "photoUrl": "https://lh3.googleusercontent.com/a-/AOh14GghQgHxcJCxFUv-XOcVvu5ENjWyF7NPTcaEk8vPWA=s64",
      "userId": "13336520143308835078"
     },
     "user_tz": -330
    },
    "id": "lPmlaL7Qwdn2"
   },
   "outputs": [],
   "source": [
    "X = np.array(X, dtype=np.uint32)\n",
    "Y = np.array(Y, dtype=np.uint8)"
   ]
  },
  {
   "cell_type": "code",
   "execution_count": 153,
   "metadata": {
    "colab": {
     "base_uri": "https://localhost:8080/",
     "height": 34
    },
    "colab_type": "code",
    "executionInfo": {
     "elapsed": 41665,
     "status": "ok",
     "timestamp": 1595883486991,
     "user": {
      "displayName": "Purusharth Verma",
      "photoUrl": "https://lh3.googleusercontent.com/a-/AOh14GghQgHxcJCxFUv-XOcVvu5ENjWyF7NPTcaEk8vPWA=s64",
      "userId": "13336520143308835078"
     },
     "user_tz": -330
    },
    "id": "doZIjF-hwcE-",
    "outputId": "ad9f2f22-f109-42d7-ad67-35e37a7bac8e"
   },
   "outputs": [
    {
     "name": "stdout",
     "output_type": "stream",
     "text": [
      "Unknown words percentage = 8.691008631845374\n"
     ]
    }
   ],
   "source": [
    "print('Unknown words percentage =', unknown_count / word_count * 100)"
   ]
  },
  {
   "cell_type": "markdown",
   "metadata": {
    "colab_type": "text",
    "id": "yuL_f3n6xALV"
   },
   "source": [
    "## **Define model**"
   ]
  },
  {
   "cell_type": "code",
   "execution_count": 154,
   "metadata": {
    "colab": {},
    "colab_type": "code",
    "executionInfo": {
     "elapsed": 41655,
     "status": "ok",
     "timestamp": 1595883486994,
     "user": {
      "displayName": "Purusharth Verma",
      "photoUrl": "https://lh3.googleusercontent.com/a-/AOh14GghQgHxcJCxFUv-XOcVvu5ENjWyF7NPTcaEk8vPWA=s64",
      "userId": "13336520143308835078"
     },
     "user_tz": -330
    },
    "id": "WXnXW6X2wrau"
   },
   "outputs": [],
   "source": [
    "def get_model():\n",
    "    inputs = tf.keras.layers.Input(shape=(review_max_len,))\n",
    "    embeddings = tf.keras.layers.Embedding(dictionary_size + 3, embedding_dim, weights=[embedding_mat], \n",
    "                    trainable=True)(inputs)\n",
    "    lstm_layer_1 = tf.keras.layers.LSTM(128, return_sequences=True)(embeddings)\n",
    "    lstm_layer_2 = tf.keras.layers.LSTM(128, return_sequences=False)(lstm_layer_1)\n",
    "    dense_1 = tf.keras.layers.Dense(1, activation='sigmoid')(lstm_layer_2)\n",
    "    model = tf.keras.models.Model(inputs=[inputs], outputs=[dense_1])\n",
    "    return model"
   ]
  },
  {
   "cell_type": "code",
   "execution_count": 155,
   "metadata": {
    "colab": {},
    "colab_type": "code",
    "executionInfo": {
     "elapsed": 42277,
     "status": "ok",
     "timestamp": 1595883487622,
     "user": {
      "displayName": "Purusharth Verma",
      "photoUrl": "https://lh3.googleusercontent.com/a-/AOh14GghQgHxcJCxFUv-XOcVvu5ENjWyF7NPTcaEk8vPWA=s64",
      "userId": "13336520143308835078"
     },
     "user_tz": -330
    },
    "id": "jTGAdogZxVCs"
   },
   "outputs": [],
   "source": [
    "model = get_model()"
   ]
  },
  {
   "cell_type": "code",
   "execution_count": 156,
   "metadata": {
    "colab": {
     "base_uri": "https://localhost:8080/",
     "height": 330
    },
    "colab_type": "code",
    "executionInfo": {
     "elapsed": 42277,
     "status": "ok",
     "timestamp": 1595883487631,
     "user": {
      "displayName": "Purusharth Verma",
      "photoUrl": "https://lh3.googleusercontent.com/a-/AOh14GghQgHxcJCxFUv-XOcVvu5ENjWyF7NPTcaEk8vPWA=s64",
      "userId": "13336520143308835078"
     },
     "user_tz": -330
    },
    "id": "0p2pN6hBxc1_",
    "outputId": "9c34ce97-55a0-4ba5-85e2-69ec704c95d0"
   },
   "outputs": [
    {
     "name": "stdout",
     "output_type": "stream",
     "text": [
      "Model: \"model_4\"\n",
      "_________________________________________________________________\n",
      "Layer (type)                 Output Shape              Param #   \n",
      "=================================================================\n",
      "input_5 (InputLayer)         [(None, 300)]             0         \n",
      "_________________________________________________________________\n",
      "embedding_4 (Embedding)      (None, 300, 64)           1600192   \n",
      "_________________________________________________________________\n",
      "lstm_8 (LSTM)                (None, 300, 128)          98816     \n",
      "_________________________________________________________________\n",
      "lstm_9 (LSTM)                (None, 128)               131584    \n",
      "_________________________________________________________________\n",
      "dense_4 (Dense)              (None, 1)                 129       \n",
      "=================================================================\n",
      "Total params: 1,830,721\n",
      "Trainable params: 1,830,721\n",
      "Non-trainable params: 0\n",
      "_________________________________________________________________\n"
     ]
    }
   ],
   "source": [
    "model.summary()"
   ]
  },
  {
   "cell_type": "markdown",
   "metadata": {
    "colab_type": "text",
    "id": "fWtz560JxjPo"
   },
   "source": [
    "## **Fit data to model**"
   ]
  },
  {
   "cell_type": "code",
   "execution_count": 157,
   "metadata": {
    "colab": {},
    "colab_type": "code",
    "executionInfo": {
     "elapsed": 42271,
     "status": "ok",
     "timestamp": 1595883487637,
     "user": {
      "displayName": "Purusharth Verma",
      "photoUrl": "https://lh3.googleusercontent.com/a-/AOh14GghQgHxcJCxFUv-XOcVvu5ENjWyF7NPTcaEk8vPWA=s64",
      "userId": "13336520143308835078"
     },
     "user_tz": -330
    },
    "id": "4KEayGWlxwR5"
   },
   "outputs": [],
   "source": [
    "X_train, X_test, Y_train, Y_test = train_test_split(X, Y, test_size=0.2, random_state=0)"
   ]
  },
  {
   "cell_type": "code",
   "execution_count": 158,
   "metadata": {
    "colab": {},
    "colab_type": "code",
    "executionInfo": {
     "elapsed": 42268,
     "status": "ok",
     "timestamp": 1595883487642,
     "user": {
      "displayName": "Purusharth Verma",
      "photoUrl": "https://lh3.googleusercontent.com/a-/AOh14GghQgHxcJCxFUv-XOcVvu5ENjWyF7NPTcaEk8vPWA=s64",
      "userId": "13336520143308835078"
     },
     "user_tz": -330
    },
    "id": "XWGPKtuZxeRw"
   },
   "outputs": [],
   "source": [
    "model.compile(\n",
    "    loss='binary_crossentropy', \n",
    "    optimizer=tf.keras.optimizers.Adam(learning_rate=0.00002), \n",
    "    metrics=['accuracy']\n",
    ")"
   ]
  },
  {
   "cell_type": "code",
   "execution_count": 159,
   "metadata": {
    "colab": {
     "base_uri": "https://localhost:8080/",
     "height": 555
    },
    "colab_type": "code",
    "executionInfo": {
     "elapsed": 245748,
     "status": "ok",
     "timestamp": 1595883691129,
     "user": {
      "displayName": "Purusharth Verma",
      "photoUrl": "https://lh3.googleusercontent.com/a-/AOh14GghQgHxcJCxFUv-XOcVvu5ENjWyF7NPTcaEk8vPWA=s64",
      "userId": "13336520143308835078"
     },
     "user_tz": -330
    },
    "id": "VunLVBNUxr-W",
    "outputId": "4067ff57-9a44-499d-d3b8-9385ed1bec52"
   },
   "outputs": [
    {
     "name": "stdout",
     "output_type": "stream",
     "text": [
      "Epoch 1/15\n",
      "157/157 [==============================] - 14s 88ms/step - loss: 0.6919 - accuracy: 0.5252 - val_loss: 0.6879 - val_accuracy: 0.5703\n",
      "Epoch 2/15\n",
      "157/157 [==============================] - 13s 85ms/step - loss: 0.6789 - accuracy: 0.5883 - val_loss: 0.6656 - val_accuracy: 0.6043\n",
      "Epoch 3/15\n",
      "157/157 [==============================] - 13s 85ms/step - loss: 0.6222 - accuracy: 0.6534 - val_loss: 0.5975 - val_accuracy: 0.6862\n",
      "Epoch 4/15\n",
      "157/157 [==============================] - 13s 85ms/step - loss: 0.5752 - accuracy: 0.7037 - val_loss: 0.5666 - val_accuracy: 0.7117\n",
      "Epoch 5/15\n",
      "157/157 [==============================] - 13s 86ms/step - loss: 0.5480 - accuracy: 0.7270 - val_loss: 0.5478 - val_accuracy: 0.7260\n",
      "Epoch 6/15\n",
      "157/157 [==============================] - 13s 85ms/step - loss: 0.5275 - accuracy: 0.7413 - val_loss: 0.5339 - val_accuracy: 0.7372\n",
      "Epoch 7/15\n",
      "157/157 [==============================] - 13s 85ms/step - loss: 0.5099 - accuracy: 0.7541 - val_loss: 0.5240 - val_accuracy: 0.7432\n",
      "Epoch 8/15\n",
      "157/157 [==============================] - 13s 85ms/step - loss: 0.4939 - accuracy: 0.7649 - val_loss: 0.5021 - val_accuracy: 0.7616\n",
      "Epoch 9/15\n",
      "157/157 [==============================] - 13s 85ms/step - loss: 0.4795 - accuracy: 0.7745 - val_loss: 0.4921 - val_accuracy: 0.7662\n",
      "Epoch 10/15\n",
      "157/157 [==============================] - 13s 85ms/step - loss: 0.4662 - accuracy: 0.7834 - val_loss: 0.4825 - val_accuracy: 0.7727\n",
      "Epoch 11/15\n",
      "157/157 [==============================] - 13s 85ms/step - loss: 0.4546 - accuracy: 0.7911 - val_loss: 0.4743 - val_accuracy: 0.7783\n",
      "Epoch 12/15\n",
      "157/157 [==============================] - 13s 85ms/step - loss: 0.4430 - accuracy: 0.7985 - val_loss: 0.4612 - val_accuracy: 0.7868\n",
      "Epoch 13/15\n",
      "157/157 [==============================] - 13s 85ms/step - loss: 0.4336 - accuracy: 0.8018 - val_loss: 0.4528 - val_accuracy: 0.7912\n",
      "Epoch 14/15\n",
      "157/157 [==============================] - 13s 85ms/step - loss: 0.4237 - accuracy: 0.8082 - val_loss: 0.4484 - val_accuracy: 0.7935\n",
      "Epoch 15/15\n",
      "157/157 [==============================] - 13s 85ms/step - loss: 0.4140 - accuracy: 0.8147 - val_loss: 0.4374 - val_accuracy: 0.8005\n"
     ]
    },
    {
     "data": {
      "text/plain": [
       "<tensorflow.python.keras.callbacks.History at 0x7fb208740160>"
      ]
     },
     "execution_count": 159,
     "metadata": {
      "tags": []
     },
     "output_type": "execute_result"
    }
   ],
   "source": [
    "model.fit(X_train, Y_train, batch_size=256, epochs=15, validation_data=(X_test, Y_test))"
   ]
  },
  {
   "cell_type": "markdown",
   "metadata": {
    "colab_type": "text",
    "id": "txj2YZXWzKte"
   },
   "source": [
    "## **Evaluate model**"
   ]
  },
  {
   "cell_type": "code",
   "execution_count": 160,
   "metadata": {
    "colab": {},
    "colab_type": "code",
    "executionInfo": {
     "elapsed": 250269,
     "status": "ok",
     "timestamp": 1595883695663,
     "user": {
      "displayName": "Purusharth Verma",
      "photoUrl": "https://lh3.googleusercontent.com/a-/AOh14GghQgHxcJCxFUv-XOcVvu5ENjWyF7NPTcaEk8vPWA=s64",
      "userId": "13336520143308835078"
     },
     "user_tz": -330
    },
    "id": "WH5SXW36ztGo"
   },
   "outputs": [],
   "source": [
    "predictions = np.around(model.predict(X_test))"
   ]
  },
  {
   "cell_type": "code",
   "execution_count": 161,
   "metadata": {
    "colab": {
     "base_uri": "https://localhost:8080/",
     "height": 69
    },
    "colab_type": "code",
    "executionInfo": {
     "elapsed": 250276,
     "status": "ok",
     "timestamp": 1595883695679,
     "user": {
      "displayName": "Purusharth Verma",
      "photoUrl": "https://lh3.googleusercontent.com/a-/AOh14GghQgHxcJCxFUv-XOcVvu5ENjWyF7NPTcaEk8vPWA=s64",
      "userId": "13336520143308835078"
     },
     "user_tz": -330
    },
    "id": "_vR5XtOR7hDt",
    "outputId": "8c48dfe9-b9b9-432a-c024-aaebf2a79771"
   },
   "outputs": [
    {
     "name": "stdout",
     "output_type": "stream",
     "text": [
      "Precision = 0.8011\n",
      "Recall = 0.8005\n",
      "F1 Score = 0.8004\n"
     ]
    }
   ],
   "source": [
    "precision, recall, f1, _ = precision_recall_fscore_support(Y_test, predictions, average='weighted')\n",
    "print('Precision =', round(precision, 4))\n",
    "print('Recall =', round(recall, 4))\n",
    "print('F1 Score =', round(f1, 4))"
   ]
  },
  {
   "cell_type": "code",
   "execution_count": 162,
   "metadata": {
    "colab": {},
    "colab_type": "code",
    "executionInfo": {
     "elapsed": 250267,
     "status": "ok",
     "timestamp": 1595883695682,
     "user": {
      "displayName": "Purusharth Verma",
      "photoUrl": "https://lh3.googleusercontent.com/a-/AOh14GghQgHxcJCxFUv-XOcVvu5ENjWyF7NPTcaEk8vPWA=s64",
      "userId": "13336520143308835078"
     },
     "user_tz": -330
    },
    "id": "bzbpRdBR7x1S"
   },
   "outputs": [],
   "source": [
    "def predict(review):\n",
    "    review = clean_review(review)\n",
    "    words = list(filter(lambda x: len(x) > 0, map(str.strip, review.split(' '))))\n",
    "    inp = np.array(convert_to_ind_seq(words)[0]).reshape((1, review_max_len))\n",
    "    out = model.predict(inp)[0][0]\n",
    "    return 'Positive Review' if out >= 0.5 else 'Negative Review'"
   ]
  },
  {
   "cell_type": "code",
   "execution_count": 163,
   "metadata": {
    "colab": {
     "base_uri": "https://localhost:8080/",
     "height": 38
    },
    "colab_type": "code",
    "executionInfo": {
     "elapsed": 250267,
     "status": "ok",
     "timestamp": 1595883695689,
     "user": {
      "displayName": "Purusharth Verma",
      "photoUrl": "https://lh3.googleusercontent.com/a-/AOh14GghQgHxcJCxFUv-XOcVvu5ENjWyF7NPTcaEk8vPWA=s64",
      "userId": "13336520143308835078"
     },
     "user_tz": -330
    },
    "id": "8omBYSgU9MQj",
    "outputId": "37e167c9-d73b-4daf-f442-a977ce086605"
   },
   "outputs": [
    {
     "data": {
      "application/vnd.google.colaboratory.intrinsic+json": {
       "type": "string"
      },
      "text/plain": [
       "'Positive Review'"
      ]
     },
     "execution_count": 163,
     "metadata": {
      "tags": []
     },
     "output_type": "execute_result"
    }
   ],
   "source": [
    "predict('It was a fantastic movie. I loved the acting!')"
   ]
  }
 ],
 "metadata": {
  "accelerator": "GPU",
  "colab": {
   "authorship_tag": "ABX9TyOeTMyC2zP2+QYoZkVV6EIZ",
   "mount_file_id": "1BJTU9f4m6M1c7UCKz-oWHaNKSFzIqi-E",
   "name": "Sentiment Analysis.ipynb",
   "provenance": []
  },
  "kernelspec": {
   "display_name": "Python 3",
   "language": "python",
   "name": "python3"
  },
  "language_info": {
   "codemirror_mode": {
    "name": "ipython",
    "version": 3
   },
   "file_extension": ".py",
   "mimetype": "text/x-python",
   "name": "python",
   "nbconvert_exporter": "python",
   "pygments_lexer": "ipython3",
   "version": "3.7.3"
  }
 },
 "nbformat": 4,
 "nbformat_minor": 1
}
